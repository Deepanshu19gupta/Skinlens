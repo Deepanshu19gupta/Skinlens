{
 "cells": [
  {
   "cell_type": "markdown",
   "id": "c01dbf74",
   "metadata": {},
   "source": [
    "# Step 1: Importing Essential Libraries"
   ]
  },
  {
   "cell_type": "code",
   "execution_count": 1,
   "id": "7e097374",
   "metadata": {},
   "outputs": [],
   "source": [
    "import pandas as pd\n",
    "import numpy as np\n",
    "import os\n",
    "import warnings \n",
    "warnings.filterwarnings('ignore')"
   ]
  },
  {
   "cell_type": "markdown",
   "id": "cbe49650",
   "metadata": {},
   "source": [
    "# Step 2: Loading data and Making labels"
   ]
  },
  {
   "cell_type": "code",
   "execution_count": 2,
   "id": "ceba9f78",
   "metadata": {},
   "outputs": [
    {
     "name": "stdout",
     "output_type": "stream",
     "text": [
      "       pixel0000  pixel0001  pixel0002  pixel0003  pixel0004  pixel0005  \\\n",
      "0            192        153        193        195        155        192   \n",
      "1             25         14         30         68         48         75   \n",
      "2            192        138        153        200        145        163   \n",
      "3             38         19         30         95         59         72   \n",
      "4            158        113        139        194        144        174   \n",
      "...          ...        ...        ...        ...        ...        ...   \n",
      "10010        183        165        181        182        165        180   \n",
      "10011          2          3          1         38         33         32   \n",
      "10012        132        118        118        167        149        149   \n",
      "10013        160        124        146        164        131        152   \n",
      "10014        175        142        121        181        150        134   \n",
      "\n",
      "       pixel0006  pixel0007  pixel0008  pixel0009  ...  pixel2343  pixel2344  \\\n",
      "0            197        154        185        202  ...        173        124   \n",
      "1            123         93        126        158  ...         60         39   \n",
      "2            201        142        160        206  ...        167        129   \n",
      "3            143        103        119        171  ...         44         26   \n",
      "4            215        162        191        225  ...        209        166   \n",
      "...          ...        ...        ...        ...  ...        ...        ...   \n",
      "10010        184        166        182        188  ...        208        185   \n",
      "10011        121        104        103        132  ...         96         79   \n",
      "10012        175        156        160        184  ...        204        181   \n",
      "10013        167        127        146        169  ...        185        162   \n",
      "10014        181        150        133        178  ...        159         79   \n",
      "\n",
      "       pixel2345  pixel2346  pixel2347  pixel2348  pixel2349  pixel2350  \\\n",
      "0            138        183        147        166        185        154   \n",
      "1             55         25         14         28         25         14   \n",
      "2            143        159        124        142        136        104   \n",
      "3             36         25         12         17         25         12   \n",
      "4            185        172        135        149        109         78   \n",
      "...          ...        ...        ...        ...        ...        ...   \n",
      "10010        187        208        186        186        206        187   \n",
      "10011         76         24         23         21          3          4   \n",
      "10012        178        181        159        153        172        151   \n",
      "10013        167        184        157        166        185        162   \n",
      "10014         82        174        137        125        175        139   \n",
      "\n",
      "       pixel2351  label  \n",
      "0            177      2  \n",
      "1             27      2  \n",
      "2            117      2  \n",
      "3             15      2  \n",
      "4             92      2  \n",
      "...          ...    ...  \n",
      "10010        189      0  \n",
      "10011          1      0  \n",
      "10012        145      0  \n",
      "10013        172      0  \n",
      "10014        126      6  \n",
      "\n",
      "[10015 rows x 2353 columns]\n"
     ]
    }
   ],
   "source": [
    "df = pd.read_csv (r'D:\\Downloads\\hmnist.csv')\n",
    "print (df)"
   ]
  },
  {
   "cell_type": "code",
   "execution_count": 3,
   "id": "3eb4f6c5",
   "metadata": {},
   "outputs": [
    {
     "data": {
      "text/html": [
       "<div>\n",
       "<style scoped>\n",
       "    .dataframe tbody tr th:only-of-type {\n",
       "        vertical-align: middle;\n",
       "    }\n",
       "\n",
       "    .dataframe tbody tr th {\n",
       "        vertical-align: top;\n",
       "    }\n",
       "\n",
       "    .dataframe thead th {\n",
       "        text-align: right;\n",
       "    }\n",
       "</style>\n",
       "<table border=\"1\" class=\"dataframe\">\n",
       "  <thead>\n",
       "    <tr style=\"text-align: right;\">\n",
       "      <th></th>\n",
       "      <th>pixel0000</th>\n",
       "      <th>pixel0001</th>\n",
       "      <th>pixel0002</th>\n",
       "      <th>pixel0003</th>\n",
       "      <th>pixel0004</th>\n",
       "      <th>pixel0005</th>\n",
       "      <th>pixel0006</th>\n",
       "      <th>pixel0007</th>\n",
       "      <th>pixel0008</th>\n",
       "      <th>pixel0009</th>\n",
       "      <th>...</th>\n",
       "      <th>pixel2343</th>\n",
       "      <th>pixel2344</th>\n",
       "      <th>pixel2345</th>\n",
       "      <th>pixel2346</th>\n",
       "      <th>pixel2347</th>\n",
       "      <th>pixel2348</th>\n",
       "      <th>pixel2349</th>\n",
       "      <th>pixel2350</th>\n",
       "      <th>pixel2351</th>\n",
       "      <th>label</th>\n",
       "    </tr>\n",
       "  </thead>\n",
       "  <tbody>\n",
       "    <tr>\n",
       "      <th>10010</th>\n",
       "      <td>183</td>\n",
       "      <td>165</td>\n",
       "      <td>181</td>\n",
       "      <td>182</td>\n",
       "      <td>165</td>\n",
       "      <td>180</td>\n",
       "      <td>184</td>\n",
       "      <td>166</td>\n",
       "      <td>182</td>\n",
       "      <td>188</td>\n",
       "      <td>...</td>\n",
       "      <td>208</td>\n",
       "      <td>185</td>\n",
       "      <td>187</td>\n",
       "      <td>208</td>\n",
       "      <td>186</td>\n",
       "      <td>186</td>\n",
       "      <td>206</td>\n",
       "      <td>187</td>\n",
       "      <td>189</td>\n",
       "      <td>0</td>\n",
       "    </tr>\n",
       "    <tr>\n",
       "      <th>10011</th>\n",
       "      <td>2</td>\n",
       "      <td>3</td>\n",
       "      <td>1</td>\n",
       "      <td>38</td>\n",
       "      <td>33</td>\n",
       "      <td>32</td>\n",
       "      <td>121</td>\n",
       "      <td>104</td>\n",
       "      <td>103</td>\n",
       "      <td>132</td>\n",
       "      <td>...</td>\n",
       "      <td>96</td>\n",
       "      <td>79</td>\n",
       "      <td>76</td>\n",
       "      <td>24</td>\n",
       "      <td>23</td>\n",
       "      <td>21</td>\n",
       "      <td>3</td>\n",
       "      <td>4</td>\n",
       "      <td>1</td>\n",
       "      <td>0</td>\n",
       "    </tr>\n",
       "    <tr>\n",
       "      <th>10012</th>\n",
       "      <td>132</td>\n",
       "      <td>118</td>\n",
       "      <td>118</td>\n",
       "      <td>167</td>\n",
       "      <td>149</td>\n",
       "      <td>149</td>\n",
       "      <td>175</td>\n",
       "      <td>156</td>\n",
       "      <td>160</td>\n",
       "      <td>184</td>\n",
       "      <td>...</td>\n",
       "      <td>204</td>\n",
       "      <td>181</td>\n",
       "      <td>178</td>\n",
       "      <td>181</td>\n",
       "      <td>159</td>\n",
       "      <td>153</td>\n",
       "      <td>172</td>\n",
       "      <td>151</td>\n",
       "      <td>145</td>\n",
       "      <td>0</td>\n",
       "    </tr>\n",
       "    <tr>\n",
       "      <th>10013</th>\n",
       "      <td>160</td>\n",
       "      <td>124</td>\n",
       "      <td>146</td>\n",
       "      <td>164</td>\n",
       "      <td>131</td>\n",
       "      <td>152</td>\n",
       "      <td>167</td>\n",
       "      <td>127</td>\n",
       "      <td>146</td>\n",
       "      <td>169</td>\n",
       "      <td>...</td>\n",
       "      <td>185</td>\n",
       "      <td>162</td>\n",
       "      <td>167</td>\n",
       "      <td>184</td>\n",
       "      <td>157</td>\n",
       "      <td>166</td>\n",
       "      <td>185</td>\n",
       "      <td>162</td>\n",
       "      <td>172</td>\n",
       "      <td>0</td>\n",
       "    </tr>\n",
       "    <tr>\n",
       "      <th>10014</th>\n",
       "      <td>175</td>\n",
       "      <td>142</td>\n",
       "      <td>121</td>\n",
       "      <td>181</td>\n",
       "      <td>150</td>\n",
       "      <td>134</td>\n",
       "      <td>181</td>\n",
       "      <td>150</td>\n",
       "      <td>133</td>\n",
       "      <td>178</td>\n",
       "      <td>...</td>\n",
       "      <td>159</td>\n",
       "      <td>79</td>\n",
       "      <td>82</td>\n",
       "      <td>174</td>\n",
       "      <td>137</td>\n",
       "      <td>125</td>\n",
       "      <td>175</td>\n",
       "      <td>139</td>\n",
       "      <td>126</td>\n",
       "      <td>6</td>\n",
       "    </tr>\n",
       "  </tbody>\n",
       "</table>\n",
       "<p>5 rows × 2353 columns</p>\n",
       "</div>"
      ],
      "text/plain": [
       "       pixel0000  pixel0001  pixel0002  pixel0003  pixel0004  pixel0005  \\\n",
       "10010        183        165        181        182        165        180   \n",
       "10011          2          3          1         38         33         32   \n",
       "10012        132        118        118        167        149        149   \n",
       "10013        160        124        146        164        131        152   \n",
       "10014        175        142        121        181        150        134   \n",
       "\n",
       "       pixel0006  pixel0007  pixel0008  pixel0009  ...  pixel2343  pixel2344  \\\n",
       "10010        184        166        182        188  ...        208        185   \n",
       "10011        121        104        103        132  ...         96         79   \n",
       "10012        175        156        160        184  ...        204        181   \n",
       "10013        167        127        146        169  ...        185        162   \n",
       "10014        181        150        133        178  ...        159         79   \n",
       "\n",
       "       pixel2345  pixel2346  pixel2347  pixel2348  pixel2349  pixel2350  \\\n",
       "10010        187        208        186        186        206        187   \n",
       "10011         76         24         23         21          3          4   \n",
       "10012        178        181        159        153        172        151   \n",
       "10013        167        184        157        166        185        162   \n",
       "10014         82        174        137        125        175        139   \n",
       "\n",
       "       pixel2351  label  \n",
       "10010        189      0  \n",
       "10011          1      0  \n",
       "10012        145      0  \n",
       "10013        172      0  \n",
       "10014        126      6  \n",
       "\n",
       "[5 rows x 2353 columns]"
      ]
     },
     "execution_count": 3,
     "metadata": {},
     "output_type": "execute_result"
    }
   ],
   "source": [
    "df.tail()"
   ]
  },
  {
   "cell_type": "markdown",
   "id": "ccdcca72",
   "metadata": {},
   "source": [
    "# Step 3: Train Test Split"
   ]
  },
  {
   "cell_type": "code",
   "execution_count": 4,
   "id": "e5f301cc",
   "metadata": {},
   "outputs": [],
   "source": [
    "fractions=np.array([0.8,0.2])\n",
    "df=df.sample(frac=1)\n",
    "train_set, test_set = np.array_split(\n",
    "    df, (fractions[:-1].cumsum() * len(df)).astype(int))"
   ]
  },
  {
   "cell_type": "code",
   "execution_count": 5,
   "id": "ce16bd45",
   "metadata": {},
   "outputs": [
    {
     "name": "stdout",
     "output_type": "stream",
     "text": [
      "8012\n"
     ]
    }
   ],
   "source": [
    "print(len(train_set))"
   ]
  },
  {
   "cell_type": "code",
   "execution_count": 6,
   "id": "d73e5a54",
   "metadata": {},
   "outputs": [
    {
     "name": "stdout",
     "output_type": "stream",
     "text": [
      "2003\n"
     ]
    }
   ],
   "source": [
    "print(len(test_set))"
   ]
  },
  {
   "cell_type": "code",
   "execution_count": 7,
   "id": "43b3ec73",
   "metadata": {},
   "outputs": [
    {
     "data": {
      "text/plain": [
       "array([4, 5, 2, 0, 6, 1, 3], dtype=int64)"
      ]
     },
     "execution_count": 7,
     "metadata": {},
     "output_type": "execute_result"
    }
   ],
   "source": [
    "df.label.unique()"
   ]
  },
  {
   "cell_type": "code",
   "execution_count": 8,
   "id": "31e2d922",
   "metadata": {},
   "outputs": [],
   "source": [
    "classes={0:('akiec', 'actinic keratoses and intraepithelial carcinomae'),\n",
    "         1:('bcc' , 'basal cell carcinoma'),\n",
    "         2:('bkl', 'benign keratosis-like lesions'),\n",
    "         3:('df', 'dermatofibroma'),\n",
    "         4:('nv', ' melanocytic nevi'),\n",
    "         5:('vasc', ' pyogenic granulomas and hemorrhage'),\n",
    "         6:('mel', 'melanoma'),}"
   ]
  },
  {
   "cell_type": "code",
   "execution_count": 9,
   "id": "5b02a6a9",
   "metadata": {},
   "outputs": [],
   "source": [
    "y_train=train_set['label']\n",
    "x_train=train_set.drop(columns=['label'])\n",
    "y_test=test_set['label']\n",
    "x_test=test_set.drop(columns=['label'])\n",
    "\n",
    "columns=list(x_train)"
   ]
  },
  {
   "cell_type": "code",
   "execution_count": 10,
   "id": "92956745",
   "metadata": {},
   "outputs": [
    {
     "name": "stdout",
     "output_type": "stream",
     "text": [
      "cpu\n"
     ]
    }
   ],
   "source": [
    "import torch\n",
    "device = torch.device(\"cuda:0\" if torch.cuda.is_available() else \"cpu\")\n",
    "print(device)"
   ]
  },
  {
   "cell_type": "markdown",
   "id": "f8e1c05f",
   "metadata": {},
   "source": [
    "# Step 4: Exploratory Data Analysis and Preprocessing"
   ]
  },
  {
   "cell_type": "code",
   "execution_count": 11,
   "id": "75a72166",
   "metadata": {},
   "outputs": [
    {
     "data": {
      "text/plain": [
       "<AxesSubplot:xlabel='label', ylabel='count'>"
      ]
     },
     "execution_count": 11,
     "metadata": {},
     "output_type": "execute_result"
    },
    {
     "data": {
      "image/png": "[encoded data removed]",
      "text/plain": [
       "<Figure size 432x288 with 1 Axes>"
      ]
     },
     "metadata": {
      "needs_background": "light"
     },
     "output_type": "display_data"
    }
   ],
   "source": [
    "import seaborn as sns\n",
    "\n",
    "sns.countplot(train_set['label'])"
   ]
  },
  {
   "cell_type": "code",
   "execution_count": 12,
   "id": "c14be41f",
   "metadata": {},
   "outputs": [
    {
     "name": "stdout",
     "output_type": "stream",
     "text": [
      "Requirement already satisfied: imbalanced-learn==0.6.0 in c:\\programdata\\anaconda3\\lib\\site-packages (0.6.0)\n",
      "Requirement already satisfied: numpy>=1.11 in c:\\programdata\\anaconda3\\lib\\site-packages (from imbalanced-learn==0.6.0) (1.21.5)\n",
      "Requirement already satisfied: joblib>=0.11 in c:\\programdata\\anaconda3\\lib\\site-packages (from imbalanced-learn==0.6.0) (1.1.0)\n",
      "Requirement already satisfied: scipy>=0.17 in c:\\programdata\\anaconda3\\lib\\site-packages (from imbalanced-learn==0.6.0) (1.7.3)\n",
      "Requirement already satisfied: scikit-learn>=0.22 in c:\\programdata\\anaconda3\\lib\\site-packages (from imbalanced-learn==0.6.0) (1.0.2)\n",
      "Requirement already satisfied: threadpoolctl>=2.0.0 in c:\\programdata\\anaconda3\\lib\\site-packages (from scikit-learn>=0.22->imbalanced-learn==0.6.0) (2.2.0)\n"
     ]
    },
    {
     "name": "stderr",
     "output_type": "stream",
     "text": [
      "WARNING: Ignoring invalid distribution - (c:\\programdata\\anaconda3\\lib\\site-packages)\n",
      "WARNING: Ignoring invalid distribution -cikit-learn (c:\\programdata\\anaconda3\\lib\\site-packages)\n",
      "WARNING: Ignoring invalid distribution - (c:\\programdata\\anaconda3\\lib\\site-packages)\n",
      "WARNING: Ignoring invalid distribution -cikit-learn (c:\\programdata\\anaconda3\\lib\\site-packages)\n",
      "WARNING: Ignoring invalid distribution - (c:\\programdata\\anaconda3\\lib\\site-packages)\n",
      "WARNING: Ignoring invalid distribution -cikit-learn (c:\\programdata\\anaconda3\\lib\\site-packages)\n",
      "WARNING: Ignoring invalid distribution - (c:\\programdata\\anaconda3\\lib\\site-packages)\n",
      "WARNING: Ignoring invalid distribution -cikit-learn (c:\\programdata\\anaconda3\\lib\\site-packages)\n",
      "WARNING: Ignoring invalid distribution - (c:\\programdata\\anaconda3\\lib\\site-packages)\n",
      "WARNING: Ignoring invalid distribution -cikit-learn (c:\\programdata\\anaconda3\\lib\\site-packages)\n",
      "WARNING: Ignoring invalid distribution - (c:\\programdata\\anaconda3\\lib\\site-packages)\n",
      "WARNING: Ignoring invalid distribution -cikit-learn (c:\\programdata\\anaconda3\\lib\\site-packages)\n"
     ]
    }
   ],
   "source": [
    "!pip install imbalanced-learn==0.6.0\n"
   ]
  },
  {
   "cell_type": "code",
   "execution_count": 15,
   "id": "19dca60f",
   "metadata": {},
   "outputs": [],
   "source": [
    "from imblearn.over_sampling import RandomOverSampler \n",
    "oversample = RandomOverSampler()\n",
    "x_train,y_train  = oversample.fit_resample(x_train,y_train)"
   ]
  },
  {
   "cell_type": "code",
   "execution_count": 16,
   "id": "dc1bd615",
   "metadata": {},
   "outputs": [
    {
     "data": {
      "text/plain": [
       "<AxesSubplot:xlabel='label', ylabel='count'>"
      ]
     },
     "execution_count": 16,
     "metadata": {},
     "output_type": "execute_result"
    },
    {
     "data": {
      "image/png": "[encoded data removed]",
      "text/plain": [
       "<Figure size 432x288 with 1 Axes>"
      ]
     },
     "metadata": {
      "needs_background": "light"
     },
     "output_type": "display_data"
    }
   ],
   "source": [
    "sns.countplot(y_train)"
   ]
  },
  {
   "cell_type": "code",
   "execution_count": 17,
   "id": "4f35d8c4",
   "metadata": {},
   "outputs": [
    {
     "data": {
      "image/png": "[encoded data removed]",
      "text/plain": [
       "<Figure size 432x288 with 1 Axes>"
      ]
     },
     "metadata": {
      "needs_background": "light"
     },
     "output_type": "display_data"
    },
    {
     "data": {
      "image/png": "[encoded data removed]",
      "text/plain": [
       "<Figure size 432x288 with 1 Axes>"
      ]
     },
     "metadata": {
      "needs_background": "light"
     },
     "output_type": "display_data"
    },
    {
     "data": {
      "image/png": "[encoded data removed]",
      "text/plain": [
       "<Figure size 432x288 with 1 Axes>"
      ]
     },
     "metadata": {
      "needs_background": "light"
     },
     "output_type": "display_data"
    }
   ],
   "source": [
    "import matplotlib.pyplot as plt\n",
    "import random\n",
    "num=random.randint(0,8000)\n",
    "x_train=np.array(x_train, dtype=np.uint8).reshape(-1,28,28,3)\n",
    "\n",
    "plt.imshow(x_train[num].reshape(28,28,3))\n",
    "plt.title(\"Random image from training data\")\n",
    "plt.show()\n",
    "num=random.randint(0,8000)\n",
    "plt.imshow(x_train[num].reshape(28,28,3))\n",
    "plt.title(\"Random image from training data\")\n",
    "plt.show()\n",
    "\n",
    "num=random.randint(0,8000)\n",
    "plt.imshow(x_train[num].reshape(28,28,3))\n",
    "plt.title(\"Random image from training data\")\n",
    "plt.show()\n"
   ]
  },
  {
   "cell_type": "markdown",
   "id": "aea48844",
   "metadata": {},
   "source": [
    "# Step 5: Model Building (CNN)"
   ]
  },
  {
   "cell_type": "code",
   "execution_count": 18,
   "id": "429fe59b",
   "metadata": {},
   "outputs": [],
   "source": [
    "from tensorflow.keras.models import Sequential\n",
    "from tensorflow.keras.layers import Conv2D, Flatten, Dense, MaxPool2D\n",
    "import tensorflow as tf"
   ]
  },
  {
   "cell_type": "code",
   "execution_count": 19,
   "id": "abc89d17",
   "metadata": {},
   "outputs": [
    {
     "name": "stdout",
     "output_type": "stream",
     "text": [
      "CPU times: total: 0 ns\n",
      "Wall time: 0 ns\n",
      "Model: \"sequential\"\n",
      "_________________________________________________________________\n",
      " Layer (type)                Output Shape              Param #   \n",
      "=================================================================\n",
      " conv2d (Conv2D)             (None, 28, 28, 16)        448       \n",
      "                                                                 \n",
      " max_pooling2d (MaxPooling2D  (None, 14, 14, 16)       0         \n",
      " )                                                               \n",
      "                                                                 \n",
      " batch_normalization (BatchN  (None, 14, 14, 16)       64        \n",
      " ormalization)                                                   \n",
      "                                                                 \n",
      " conv2d_1 (Conv2D)           (None, 12, 12, 32)        4640      \n",
      "                                                                 \n",
      " conv2d_2 (Conv2D)           (None, 10, 10, 64)        18496     \n",
      "                                                                 \n",
      " max_pooling2d_1 (MaxPooling  (None, 5, 5, 64)         0         \n",
      " 2D)                                                             \n",
      "                                                                 \n",
      " batch_normalization_1 (Batc  (None, 5, 5, 64)         256       \n",
      " hNormalization)                                                 \n",
      "                                                                 \n",
      " conv2d_3 (Conv2D)           (None, 3, 3, 128)         73856     \n",
      "                                                                 \n",
      " conv2d_4 (Conv2D)           (None, 1, 1, 256)         295168    \n",
      "                                                                 \n",
      " flatten (Flatten)           (None, 256)               0         \n",
      "                                                                 \n",
      " dropout (Dropout)           (None, 256)               0         \n",
      "                                                                 \n",
      " dense (Dense)               (None, 256)               65792     \n",
      "                                                                 \n",
      " batch_normalization_2 (Batc  (None, 256)              1024      \n",
      " hNormalization)                                                 \n",
      "                                                                 \n",
      " dropout_1 (Dropout)         (None, 256)               0         \n",
      "                                                                 \n",
      " dense_1 (Dense)             (None, 128)               32896     \n",
      "                                                                 \n",
      " batch_normalization_3 (Batc  (None, 128)              512       \n",
      " hNormalization)                                                 \n",
      "                                                                 \n",
      " dense_2 (Dense)             (None, 64)                8256      \n",
      "                                                                 \n",
      " batch_normalization_4 (Batc  (None, 64)               256       \n",
      " hNormalization)                                                 \n",
      "                                                                 \n",
      " dropout_2 (Dropout)         (None, 64)                0         \n",
      "                                                                 \n",
      " dense_3 (Dense)             (None, 32)                2080      \n",
      "                                                                 \n",
      " batch_normalization_5 (Batc  (None, 32)               128       \n",
      " hNormalization)                                                 \n",
      "                                                                 \n",
      " dense_4 (Dense)             (None, 7)                 231       \n",
      "                                                                 \n",
      "=================================================================\n",
      "Total params: 504,103\n",
      "Trainable params: 502,983\n",
      "Non-trainable params: 1,120\n",
      "_________________________________________________________________\n"
     ]
    }
   ],
   "source": [
    "%time \n",
    "\n",
    "model = Sequential()\n",
    "model.add(Conv2D(16, kernel_size = (3,3), input_shape = (28, 28, 3), activation = 'relu', padding = 'same'))\n",
    "model.add(MaxPool2D(pool_size = (2,2)))\n",
    "model.add(tf.keras.layers.BatchNormalization())\n",
    "\n",
    "model.add(Conv2D(32, kernel_size = (3,3), activation = 'relu'))\n",
    "model.add(Conv2D(64, kernel_size = (3,3), activation = 'relu'))\n",
    "\n",
    "model.add(MaxPool2D(pool_size = (2,2)))\n",
    "\n",
    "model.add(tf.keras.layers.BatchNormalization())\n",
    "\n",
    "model.add(Conv2D(128, kernel_size = (3,3), activation = 'relu'))\n",
    "model.add(Conv2D(256, kernel_size = (3,3), activation = 'relu'))\n",
    "\n",
    "model.add(Flatten())\n",
    "model.add(tf.keras.layers.Dropout(0.2))\n",
    "model.add(Dense(256,activation='relu'))\n",
    "\n",
    "model.add(tf.keras.layers.BatchNormalization())\n",
    "model.add(tf.keras.layers.Dropout(0.2))\n",
    "model.add(Dense(128,activation='relu'))\n",
    "\n",
    "model.add(tf.keras.layers.BatchNormalization())\n",
    "model.add(Dense(64,activation='relu'))\n",
    "\n",
    "model.add(tf.keras.layers.BatchNormalization())\n",
    "model.add(tf.keras.layers.Dropout(0.2))\n",
    "model.add(Dense(32,activation='relu'))\n",
    "\n",
    "model.add(tf.keras.layers.BatchNormalization())\n",
    "model.add(Dense(7,activation='softmax'))\n",
    "\n",
    "model.summary()"
   ]
  },
  {
   "cell_type": "markdown",
   "id": "e1e40bd9",
   "metadata": {},
   "source": [
    "# Step 6: Setting Optimizer & Annealing"
   ]
  },
  {
   "cell_type": "code",
   "execution_count": 20,
   "id": "7492a644",
   "metadata": {},
   "outputs": [],
   "source": [
    "callback = tf.keras.callbacks.ModelCheckpoint(filepath='best_model.h5',\n",
    "                                              monitor='val_acc', \n",
    "                                              mode='max',\n",
    "                                              verbose=1, \n",
    "                                              save_best_only=True)"
   ]
  },
  {
   "cell_type": "code",
   "execution_count": 21,
   "id": "b1d192ff",
   "metadata": {},
   "outputs": [
    {
     "name": "stderr",
     "output_type": "stream",
     "text": [
      "WARNING:absl:`lr` is deprecated, please use `learning_rate` instead, or use the legacy optimizer, e.g.,tf.keras.optimizers.legacy.Adam.\n"
     ]
    },
    {
     "name": "stdout",
     "output_type": "stream",
     "text": [
      "CPU times: total: 0 ns\n",
      "Wall time: 0 ns\n"
     ]
    }
   ],
   "source": [
    "%time \n",
    "optimizer=tf.keras.optimizers.Adam(lr=0.001)\n",
    "\n",
    "model.compile(loss = 'sparse_categorical_crossentropy',\n",
    "              optimizer =optimizer,\n",
    "              metrics = ['accuracy'])"
   ]
  },
  {
   "cell_type": "markdown",
   "id": "8fde7604",
   "metadata": {},
   "source": [
    "# Step 7: Fitting the model\n"
   ]
  },
  {
   "cell_type": "code",
   "execution_count": 22,
   "id": "cecf1801",
   "metadata": {},
   "outputs": [
    {
     "name": "stdout",
     "output_type": "stream",
     "text": [
      "Epoch 1/100\n",
      "235/235 [==============================] - ETA: 0s - loss: 1.1285 - accuracy: 0.5983WARNING:tensorflow:Can save best model only with val_acc available, skipping.\n"
     ]
    },
    {
     "name": "stderr",
     "output_type": "stream",
     "text": [
      "WARNING:tensorflow:Can save best model only with val_acc available, skipping.\n"
     ]
    },
    {
     "name": "stdout",
     "output_type": "stream",
     "text": [
      "235/235 [==============================] - 17s 56ms/step - loss: 1.1285 - accuracy: 0.5983 - val_loss: 2.9178 - val_accuracy: 0.0814\n",
      "Epoch 2/100\n",
      "234/235 [============================>.] - ETA: 0s - loss: 0.3931 - accuracy: 0.8698WARNING:tensorflow:Can save best model only with val_acc available, skipping.\n"
     ]
    },
    {
     "name": "stderr",
     "output_type": "stream",
     "text": [
      "WARNING:tensorflow:Can save best model only with val_acc available, skipping.\n"
     ]
    },
    {
     "name": "stdout",
     "output_type": "stream",
     "text": [
      "235/235 [==============================] - 13s 54ms/step - loss: 0.3927 - accuracy: 0.8698 - val_loss: 1.5910 - val_accuracy: 0.3871\n",
      "Epoch 3/100\n",
      "234/235 [============================>.] - ETA: 0s - loss: 0.2582 - accuracy: 0.9113WARNING:tensorflow:Can save best model only with val_acc available, skipping.\n"
     ]
    },
    {
     "name": "stderr",
     "output_type": "stream",
     "text": [
      "WARNING:tensorflow:Can save best model only with val_acc available, skipping.\n"
     ]
    },
    {
     "name": "stdout",
     "output_type": "stream",
     "text": [
      "235/235 [==============================] - 13s 55ms/step - loss: 0.2581 - accuracy: 0.9112 - val_loss: 1.5297 - val_accuracy: 0.4236\n",
      "Epoch 4/100\n",
      "235/235 [==============================] - ETA: 0s - loss: 0.1878 - accuracy: 0.9367WARNING:tensorflow:Can save best model only with val_acc available, skipping.\n"
     ]
    },
    {
     "name": "stderr",
     "output_type": "stream",
     "text": [
      "WARNING:tensorflow:Can save best model only with val_acc available, skipping.\n"
     ]
    },
    {
     "name": "stdout",
     "output_type": "stream",
     "text": [
      "235/235 [==============================] - 14s 59ms/step - loss: 0.1878 - accuracy: 0.9367 - val_loss: 0.9916 - val_accuracy: 0.5814\n",
      "Epoch 5/100\n",
      "235/235 [==============================] - ETA: 0s - loss: 0.1669 - accuracy: 0.9430WARNING:tensorflow:Can save best model only with val_acc available, skipping.\n"
     ]
    },
    {
     "name": "stderr",
     "output_type": "stream",
     "text": [
      "WARNING:tensorflow:Can save best model only with val_acc available, skipping.\n"
     ]
    },
    {
     "name": "stdout",
     "output_type": "stream",
     "text": [
      "235/235 [==============================] - 14s 61ms/step - loss: 0.1669 - accuracy: 0.9430 - val_loss: 1.2316 - val_accuracy: 0.5060\n",
      "Epoch 6/100\n",
      "234/235 [============================>.] - ETA: 0s - loss: 0.1337 - accuracy: 0.9537WARNING:tensorflow:Can save best model only with val_acc available, skipping.\n"
     ]
    },
    {
     "name": "stderr",
     "output_type": "stream",
     "text": [
      "WARNING:tensorflow:Can save best model only with val_acc available, skipping.\n"
     ]
    },
    {
     "name": "stdout",
     "output_type": "stream",
     "text": [
      "235/235 [==============================] - 15s 62ms/step - loss: 0.1336 - accuracy: 0.9537 - val_loss: 1.0268 - val_accuracy: 0.6031\n",
      "Epoch 7/100\n",
      "234/235 [============================>.] - ETA: 0s - loss: 0.1180 - accuracy: 0.9591WARNING:tensorflow:Can save best model only with val_acc available, skipping.\n"
     ]
    },
    {
     "name": "stderr",
     "output_type": "stream",
     "text": [
      "WARNING:tensorflow:Can save best model only with val_acc available, skipping.\n"
     ]
    },
    {
     "name": "stdout",
     "output_type": "stream",
     "text": [
      "235/235 [==============================] - 14s 61ms/step - loss: 0.1179 - accuracy: 0.9591 - val_loss: 0.8245 - val_accuracy: 0.6260\n",
      "Epoch 8/100\n",
      "234/235 [============================>.] - ETA: 0s - loss: 0.1123 - accuracy: 0.9612WARNING:tensorflow:Can save best model only with val_acc available, skipping.\n"
     ]
    },
    {
     "name": "stderr",
     "output_type": "stream",
     "text": [
      "WARNING:tensorflow:Can save best model only with val_acc available, skipping.\n"
     ]
    },
    {
     "name": "stdout",
     "output_type": "stream",
     "text": [
      "235/235 [==============================] - 14s 59ms/step - loss: 0.1123 - accuracy: 0.9612 - val_loss: 0.4381 - val_accuracy: 0.8496\n",
      "Epoch 9/100\n",
      "235/235 [==============================] - ETA: 0s - loss: 0.0919 - accuracy: 0.9674WARNING:tensorflow:Can save best model only with val_acc available, skipping.\n"
     ]
    },
    {
     "name": "stderr",
     "output_type": "stream",
     "text": [
      "WARNING:tensorflow:Can save best model only with val_acc available, skipping.\n"
     ]
    },
    {
     "name": "stdout",
     "output_type": "stream",
     "text": [
      "235/235 [==============================] - 14s 60ms/step - loss: 0.0919 - accuracy: 0.9674 - val_loss: 0.8997 - val_accuracy: 0.5976\n",
      "Epoch 10/100\n",
      "235/235 [==============================] - ETA: 0s - loss: 0.0828 - accuracy: 0.9713WARNING:tensorflow:Can save best model only with val_acc available, skipping.\n"
     ]
    },
    {
     "name": "stderr",
     "output_type": "stream",
     "text": [
      "WARNING:tensorflow:Can save best model only with val_acc available, skipping.\n"
     ]
    },
    {
     "name": "stdout",
     "output_type": "stream",
     "text": [
      "235/235 [==============================] - 14s 61ms/step - loss: 0.0828 - accuracy: 0.9713 - val_loss: 0.9035 - val_accuracy: 0.6448\n",
      "Epoch 11/100\n",
      "234/235 [============================>.] - ETA: 0s - loss: 0.0735 - accuracy: 0.9736WARNING:tensorflow:Can save best model only with val_acc available, skipping.\n"
     ]
    },
    {
     "name": "stderr",
     "output_type": "stream",
     "text": [
      "WARNING:tensorflow:Can save best model only with val_acc available, skipping.\n"
     ]
    },
    {
     "name": "stdout",
     "output_type": "stream",
     "text": [
      "235/235 [==============================] - 14s 58ms/step - loss: 0.0734 - accuracy: 0.9737 - val_loss: 0.4406 - val_accuracy: 0.7883\n",
      "Epoch 12/100\n",
      "234/235 [============================>.] - ETA: 0s - loss: 0.0686 - accuracy: 0.9756WARNING:tensorflow:Can save best model only with val_acc available, skipping.\n"
     ]
    },
    {
     "name": "stderr",
     "output_type": "stream",
     "text": [
      "WARNING:tensorflow:Can save best model only with val_acc available, skipping.\n"
     ]
    },
    {
     "name": "stdout",
     "output_type": "stream",
     "text": [
      "235/235 [==============================] - 14s 59ms/step - loss: 0.0685 - accuracy: 0.9757 - val_loss: 0.5161 - val_accuracy: 0.7887\n",
      "Epoch 13/100\n",
      "234/235 [============================>.] - ETA: 0s - loss: 0.0604 - accuracy: 0.9785WARNING:tensorflow:Can save best model only with val_acc available, skipping.\n"
     ]
    },
    {
     "name": "stderr",
     "output_type": "stream",
     "text": [
      "WARNING:tensorflow:Can save best model only with val_acc available, skipping.\n"
     ]
    },
    {
     "name": "stdout",
     "output_type": "stream",
     "text": [
      "235/235 [==============================] - 14s 59ms/step - loss: 0.0605 - accuracy: 0.9784 - val_loss: 0.7788 - val_accuracy: 0.7054\n",
      "Epoch 14/100\n",
      "234/235 [============================>.] - ETA: 0s - loss: 0.0770 - accuracy: 0.9739WARNING:tensorflow:Can save best model only with val_acc available, skipping.\n"
     ]
    },
    {
     "name": "stderr",
     "output_type": "stream",
     "text": [
      "WARNING:tensorflow:Can save best model only with val_acc available, skipping.\n"
     ]
    },
    {
     "name": "stdout",
     "output_type": "stream",
     "text": [
      "235/235 [==============================] - 14s 60ms/step - loss: 0.0771 - accuracy: 0.9738 - val_loss: 0.4445 - val_accuracy: 0.8194\n",
      "Epoch 15/100\n",
      "234/235 [============================>.] - ETA: 0s - loss: 0.0502 - accuracy: 0.9830WARNING:tensorflow:Can save best model only with val_acc available, skipping.\n"
     ]
    },
    {
     "name": "stderr",
     "output_type": "stream",
     "text": [
      "WARNING:tensorflow:Can save best model only with val_acc available, skipping.\n"
     ]
    },
    {
     "name": "stdout",
     "output_type": "stream",
     "text": [
      "235/235 [==============================] - 14s 61ms/step - loss: 0.0504 - accuracy: 0.9830 - val_loss: 0.8302 - val_accuracy: 0.6930\n",
      "Epoch 16/100\n",
      "234/235 [============================>.] - ETA: 0s - loss: 0.0537 - accuracy: 0.9814WARNING:tensorflow:Can save best model only with val_acc available, skipping.\n"
     ]
    },
    {
     "name": "stderr",
     "output_type": "stream",
     "text": [
      "WARNING:tensorflow:Can save best model only with val_acc available, skipping.\n"
     ]
    },
    {
     "name": "stdout",
     "output_type": "stream",
     "text": [
      "235/235 [==============================] - 14s 61ms/step - loss: 0.0537 - accuracy: 0.9815 - val_loss: 0.1489 - val_accuracy: 0.9452\n",
      "Epoch 17/100\n",
      "234/235 [============================>.] - ETA: 0s - loss: 0.0492 - accuracy: 0.9841WARNING:tensorflow:Can save best model only with val_acc available, skipping.\n"
     ]
    },
    {
     "name": "stderr",
     "output_type": "stream",
     "text": [
      "WARNING:tensorflow:Can save best model only with val_acc available, skipping.\n"
     ]
    },
    {
     "name": "stdout",
     "output_type": "stream",
     "text": [
      "235/235 [==============================] - 14s 61ms/step - loss: 0.0494 - accuracy: 0.9841 - val_loss: 0.6818 - val_accuracy: 0.7555\n",
      "Epoch 18/100\n",
      "235/235 [==============================] - ETA: 0s - loss: 0.0417 - accuracy: 0.9862WARNING:tensorflow:Can save best model only with val_acc available, skipping.\n"
     ]
    },
    {
     "name": "stderr",
     "output_type": "stream",
     "text": [
      "WARNING:tensorflow:Can save best model only with val_acc available, skipping.\n"
     ]
    },
    {
     "name": "stdout",
     "output_type": "stream",
     "text": [
      "235/235 [==============================] - 14s 60ms/step - loss: 0.0417 - accuracy: 0.9862 - val_loss: 0.2422 - val_accuracy: 0.9134\n",
      "Epoch 19/100\n",
      "235/235 [==============================] - ETA: 0s - loss: 0.0300 - accuracy: 0.9906WARNING:tensorflow:Can save best model only with val_acc available, skipping.\n"
     ]
    },
    {
     "name": "stderr",
     "output_type": "stream",
     "text": [
      "WARNING:tensorflow:Can save best model only with val_acc available, skipping.\n"
     ]
    },
    {
     "name": "stdout",
     "output_type": "stream",
     "text": [
      "235/235 [==============================] - 14s 61ms/step - loss: 0.0300 - accuracy: 0.9906 - val_loss: 0.2233 - val_accuracy: 0.9079\n",
      "Epoch 20/100\n",
      "235/235 [==============================] - ETA: 0s - loss: 0.0273 - accuracy: 0.9907WARNING:tensorflow:Can save best model only with val_acc available, skipping.\n"
     ]
    },
    {
     "name": "stderr",
     "output_type": "stream",
     "text": [
      "WARNING:tensorflow:Can save best model only with val_acc available, skipping.\n"
     ]
    },
    {
     "name": "stdout",
     "output_type": "stream",
     "text": [
      "235/235 [==============================] - 14s 60ms/step - loss: 0.0273 - accuracy: 0.9907 - val_loss: 0.0606 - val_accuracy: 0.9791\n",
      "Epoch 21/100\n",
      "235/235 [==============================] - ETA: 0s - loss: 0.0376 - accuracy: 0.9885WARNING:tensorflow:Can save best model only with val_acc available, skipping.\n"
     ]
    },
    {
     "name": "stderr",
     "output_type": "stream",
     "text": [
      "WARNING:tensorflow:Can save best model only with val_acc available, skipping.\n"
     ]
    },
    {
     "name": "stdout",
     "output_type": "stream",
     "text": [
      "235/235 [==============================] - 14s 60ms/step - loss: 0.0376 - accuracy: 0.9885 - val_loss: 0.1669 - val_accuracy: 0.9518\n",
      "Epoch 22/100\n",
      "235/235 [==============================] - ETA: 0s - loss: 0.0355 - accuracy: 0.9889WARNING:tensorflow:Can save best model only with val_acc available, skipping.\n"
     ]
    },
    {
     "name": "stderr",
     "output_type": "stream",
     "text": [
      "WARNING:tensorflow:Can save best model only with val_acc available, skipping.\n"
     ]
    },
    {
     "name": "stdout",
     "output_type": "stream",
     "text": [
      "235/235 [==============================] - 15s 64ms/step - loss: 0.0355 - accuracy: 0.9889 - val_loss: 0.3301 - val_accuracy: 0.8834\n",
      "Epoch 23/100\n",
      "234/235 [============================>.] - ETA: 0s - loss: 0.0399 - accuracy: 0.9870WARNING:tensorflow:Can save best model only with val_acc available, skipping.\n"
     ]
    },
    {
     "name": "stderr",
     "output_type": "stream",
     "text": [
      "WARNING:tensorflow:Can save best model only with val_acc available, skipping.\n"
     ]
    },
    {
     "name": "stdout",
     "output_type": "stream",
     "text": [
      "235/235 [==============================] - 15s 63ms/step - loss: 0.0401 - accuracy: 0.9870 - val_loss: 0.2511 - val_accuracy: 0.9122\n",
      "Epoch 24/100\n",
      "235/235 [==============================] - ETA: 0s - loss: 0.0281 - accuracy: 0.9912WARNING:tensorflow:Can save best model only with val_acc available, skipping.\n"
     ]
    },
    {
     "name": "stderr",
     "output_type": "stream",
     "text": [
      "WARNING:tensorflow:Can save best model only with val_acc available, skipping.\n"
     ]
    },
    {
     "name": "stdout",
     "output_type": "stream",
     "text": [
      "235/235 [==============================] - 15s 64ms/step - loss: 0.0281 - accuracy: 0.9912 - val_loss: 0.1606 - val_accuracy: 0.9414\n",
      "Epoch 25/100\n",
      "235/235 [==============================] - ETA: 0s - loss: 0.0224 - accuracy: 0.9924WARNING:tensorflow:Can save best model only with val_acc available, skipping.\n"
     ]
    },
    {
     "name": "stderr",
     "output_type": "stream",
     "text": [
      "WARNING:tensorflow:Can save best model only with val_acc available, skipping.\n"
     ]
    },
    {
     "name": "stdout",
     "output_type": "stream",
     "text": [
      "235/235 [==============================] - 14s 61ms/step - loss: 0.0224 - accuracy: 0.9924 - val_loss: 0.3737 - val_accuracy: 0.8914\n",
      "Epoch 26/100\n",
      "234/235 [============================>.] - ETA: 0s - loss: 0.0209 - accuracy: 0.9933WARNING:tensorflow:Can save best model only with val_acc available, skipping.\n"
     ]
    },
    {
     "name": "stderr",
     "output_type": "stream",
     "text": [
      "WARNING:tensorflow:Can save best model only with val_acc available, skipping.\n"
     ]
    },
    {
     "name": "stdout",
     "output_type": "stream",
     "text": [
      "235/235 [==============================] - 14s 60ms/step - loss: 0.0209 - accuracy: 0.9933 - val_loss: 0.9456 - val_accuracy: 0.7418\n",
      "Epoch 27/100\n",
      "235/235 [==============================] - ETA: 0s - loss: 0.0318 - accuracy: 0.9899WARNING:tensorflow:Can save best model only with val_acc available, skipping.\n"
     ]
    },
    {
     "name": "stderr",
     "output_type": "stream",
     "text": [
      "WARNING:tensorflow:Can save best model only with val_acc available, skipping.\n"
     ]
    },
    {
     "name": "stdout",
     "output_type": "stream",
     "text": [
      "235/235 [==============================] - 15s 62ms/step - loss: 0.0318 - accuracy: 0.9899 - val_loss: 0.5287 - val_accuracy: 0.8318\n",
      "Epoch 28/100\n",
      "235/235 [==============================] - ETA: 0s - loss: 0.0280 - accuracy: 0.9915WARNING:tensorflow:Can save best model only with val_acc available, skipping.\n"
     ]
    },
    {
     "name": "stderr",
     "output_type": "stream",
     "text": [
      "WARNING:tensorflow:Can save best model only with val_acc available, skipping.\n"
     ]
    },
    {
     "name": "stdout",
     "output_type": "stream",
     "text": [
      "235/235 [==============================] - 15s 64ms/step - loss: 0.0280 - accuracy: 0.9915 - val_loss: 0.3668 - val_accuracy: 0.8616\n",
      "Epoch 29/100\n",
      "234/235 [============================>.] - ETA: 0s - loss: 0.0234 - accuracy: 0.9921WARNING:tensorflow:Can save best model only with val_acc available, skipping.\n"
     ]
    },
    {
     "name": "stderr",
     "output_type": "stream",
     "text": [
      "WARNING:tensorflow:Can save best model only with val_acc available, skipping.\n"
     ]
    },
    {
     "name": "stdout",
     "output_type": "stream",
     "text": [
      "235/235 [==============================] - 15s 62ms/step - loss: 0.0233 - accuracy: 0.9921 - val_loss: 0.1293 - val_accuracy: 0.9561\n",
      "Epoch 30/100\n",
      "234/235 [============================>.] - ETA: 0s - loss: 0.0264 - accuracy: 0.9915WARNING:tensorflow:Can save best model only with val_acc available, skipping.\n"
     ]
    },
    {
     "name": "stderr",
     "output_type": "stream",
     "text": [
      "WARNING:tensorflow:Can save best model only with val_acc available, skipping.\n"
     ]
    },
    {
     "name": "stdout",
     "output_type": "stream",
     "text": [
      "235/235 [==============================] - 14s 60ms/step - loss: 0.0264 - accuracy: 0.9915 - val_loss: 0.0902 - val_accuracy: 0.9725\n",
      "Epoch 31/100\n",
      "235/235 [==============================] - ETA: 0s - loss: 0.0203 - accuracy: 0.9933WARNING:tensorflow:Can save best model only with val_acc available, skipping.\n"
     ]
    },
    {
     "name": "stderr",
     "output_type": "stream",
     "text": [
      "WARNING:tensorflow:Can save best model only with val_acc available, skipping.\n"
     ]
    },
    {
     "name": "stdout",
     "output_type": "stream",
     "text": [
      "235/235 [==============================] - 14s 62ms/step - loss: 0.0203 - accuracy: 0.9933 - val_loss: 0.0522 - val_accuracy: 0.9844\n",
      "Epoch 32/100\n",
      "235/235 [==============================] - ETA: 0s - loss: 0.0164 - accuracy: 0.9941WARNING:tensorflow:Can save best model only with val_acc available, skipping.\n"
     ]
    },
    {
     "name": "stderr",
     "output_type": "stream",
     "text": [
      "WARNING:tensorflow:Can save best model only with val_acc available, skipping.\n"
     ]
    },
    {
     "name": "stdout",
     "output_type": "stream",
     "text": [
      "235/235 [==============================] - 14s 60ms/step - loss: 0.0164 - accuracy: 0.9941 - val_loss: 0.0758 - val_accuracy: 0.9715\n",
      "Epoch 33/100\n",
      "234/235 [============================>.] - ETA: 0s - loss: 0.0175 - accuracy: 0.9944WARNING:tensorflow:Can save best model only with val_acc available, skipping.\n"
     ]
    },
    {
     "name": "stderr",
     "output_type": "stream",
     "text": [
      "WARNING:tensorflow:Can save best model only with val_acc available, skipping.\n"
     ]
    },
    {
     "name": "stdout",
     "output_type": "stream",
     "text": [
      "235/235 [==============================] - 14s 58ms/step - loss: 0.0176 - accuracy: 0.9943 - val_loss: 0.0597 - val_accuracy: 0.9729\n",
      "Epoch 34/100\n",
      "234/235 [============================>.] - ETA: 0s - loss: 0.0162 - accuracy: 0.9945WARNING:tensorflow:Can save best model only with val_acc available, skipping.\n"
     ]
    },
    {
     "name": "stderr",
     "output_type": "stream",
     "text": [
      "WARNING:tensorflow:Can save best model only with val_acc available, skipping.\n"
     ]
    },
    {
     "name": "stdout",
     "output_type": "stream",
     "text": [
      "235/235 [==============================] - 14s 58ms/step - loss: 0.0162 - accuracy: 0.9945 - val_loss: 0.2015 - val_accuracy: 0.9299\n",
      "Epoch 35/100\n",
      "234/235 [============================>.] - ETA: 0s - loss: 0.0150 - accuracy: 0.9955WARNING:tensorflow:Can save best model only with val_acc available, skipping.\n"
     ]
    },
    {
     "name": "stderr",
     "output_type": "stream",
     "text": [
      "WARNING:tensorflow:Can save best model only with val_acc available, skipping.\n"
     ]
    },
    {
     "name": "stdout",
     "output_type": "stream",
     "text": [
      "235/235 [==============================] - 13s 57ms/step - loss: 0.0151 - accuracy: 0.9955 - val_loss: 0.2485 - val_accuracy: 0.9111\n",
      "Epoch 36/100\n",
      "234/235 [============================>.] - ETA: 0s - loss: 0.0180 - accuracy: 0.9940WARNING:tensorflow:Can save best model only with val_acc available, skipping.\n"
     ]
    },
    {
     "name": "stderr",
     "output_type": "stream",
     "text": [
      "WARNING:tensorflow:Can save best model only with val_acc available, skipping.\n"
     ]
    },
    {
     "name": "stdout",
     "output_type": "stream",
     "text": [
      "235/235 [==============================] - 14s 58ms/step - loss: 0.0180 - accuracy: 0.9939 - val_loss: 1.0482 - val_accuracy: 0.7083\n",
      "Epoch 37/100\n",
      "234/235 [============================>.] - ETA: 0s - loss: 0.0175 - accuracy: 0.9947WARNING:tensorflow:Can save best model only with val_acc available, skipping.\n"
     ]
    },
    {
     "name": "stderr",
     "output_type": "stream",
     "text": [
      "WARNING:tensorflow:Can save best model only with val_acc available, skipping.\n"
     ]
    },
    {
     "name": "stdout",
     "output_type": "stream",
     "text": [
      "235/235 [==============================] - 13s 55ms/step - loss: 0.0175 - accuracy: 0.9947 - val_loss: 0.1927 - val_accuracy: 0.9481\n",
      "Epoch 38/100\n",
      "235/235 [==============================] - ETA: 0s - loss: 0.0210 - accuracy: 0.9928WARNING:tensorflow:Can save best model only with val_acc available, skipping.\n"
     ]
    },
    {
     "name": "stderr",
     "output_type": "stream",
     "text": [
      "WARNING:tensorflow:Can save best model only with val_acc available, skipping.\n"
     ]
    },
    {
     "name": "stdout",
     "output_type": "stream",
     "text": [
      "235/235 [==============================] - 14s 59ms/step - loss: 0.0210 - accuracy: 0.9928 - val_loss: 0.9034 - val_accuracy: 0.7719\n",
      "Epoch 39/100\n",
      "234/235 [============================>.] - ETA: 0s - loss: 0.0224 - accuracy: 0.9931WARNING:tensorflow:Can save best model only with val_acc available, skipping.\n"
     ]
    },
    {
     "name": "stderr",
     "output_type": "stream",
     "text": [
      "WARNING:tensorflow:Can save best model only with val_acc available, skipping.\n"
     ]
    },
    {
     "name": "stdout",
     "output_type": "stream",
     "text": [
      "235/235 [==============================] - 14s 58ms/step - loss: 0.0224 - accuracy: 0.9930 - val_loss: 1.8888 - val_accuracy: 0.6477\n",
      "Epoch 40/100\n",
      "235/235 [==============================] - ETA: 0s - loss: 0.0169 - accuracy: 0.9946WARNING:tensorflow:Can save best model only with val_acc available, skipping.\n"
     ]
    },
    {
     "name": "stderr",
     "output_type": "stream",
     "text": [
      "WARNING:tensorflow:Can save best model only with val_acc available, skipping.\n"
     ]
    },
    {
     "name": "stdout",
     "output_type": "stream",
     "text": [
      "235/235 [==============================] - 14s 60ms/step - loss: 0.0169 - accuracy: 0.9946 - val_loss: 3.1351 - val_accuracy: 0.4666\n",
      "Epoch 41/100\n",
      "235/235 [==============================] - ETA: 0s - loss: 0.0116 - accuracy: 0.9963WARNING:tensorflow:Can save best model only with val_acc available, skipping.\n"
     ]
    },
    {
     "name": "stderr",
     "output_type": "stream",
     "text": [
      "WARNING:tensorflow:Can save best model only with val_acc available, skipping.\n"
     ]
    },
    {
     "name": "stdout",
     "output_type": "stream",
     "text": [
      "235/235 [==============================] - 17s 70ms/step - loss: 0.0116 - accuracy: 0.9963 - val_loss: 0.1715 - val_accuracy: 0.9510\n",
      "Epoch 42/100\n",
      "234/235 [============================>.] - ETA: 0s - loss: 0.0090 - accuracy: 0.9969WARNING:tensorflow:Can save best model only with val_acc available, skipping.\n"
     ]
    },
    {
     "name": "stderr",
     "output_type": "stream",
     "text": [
      "WARNING:tensorflow:Can save best model only with val_acc available, skipping.\n"
     ]
    },
    {
     "name": "stdout",
     "output_type": "stream",
     "text": [
      "235/235 [==============================] - 15s 65ms/step - loss: 0.0091 - accuracy: 0.9969 - val_loss: 0.4543 - val_accuracy: 0.8765\n",
      "Epoch 43/100\n",
      "234/235 [============================>.] - ETA: 0s - loss: 0.0111 - accuracy: 0.9965WARNING:tensorflow:Can save best model only with val_acc available, skipping.\n"
     ]
    },
    {
     "name": "stderr",
     "output_type": "stream",
     "text": [
      "WARNING:tensorflow:Can save best model only with val_acc available, skipping.\n"
     ]
    },
    {
     "name": "stdout",
     "output_type": "stream",
     "text": [
      "235/235 [==============================] - 15s 64ms/step - loss: 0.0113 - accuracy: 0.9965 - val_loss: 0.3692 - val_accuracy: 0.9120\n",
      "Epoch 44/100\n",
      "235/235 [==============================] - ETA: 0s - loss: 0.0238 - accuracy: 0.9929WARNING:tensorflow:Can save best model only with val_acc available, skipping.\n"
     ]
    },
    {
     "name": "stderr",
     "output_type": "stream",
     "text": [
      "WARNING:tensorflow:Can save best model only with val_acc available, skipping.\n"
     ]
    },
    {
     "name": "stdout",
     "output_type": "stream",
     "text": [
      "235/235 [==============================] - 15s 64ms/step - loss: 0.0238 - accuracy: 0.9929 - val_loss: 0.5826 - val_accuracy: 0.8478\n",
      "Epoch 45/100\n",
      "235/235 [==============================] - ETA: 0s - loss: 0.0195 - accuracy: 0.9938WARNING:tensorflow:Can save best model only with val_acc available, skipping.\n"
     ]
    },
    {
     "name": "stderr",
     "output_type": "stream",
     "text": [
      "WARNING:tensorflow:Can save best model only with val_acc available, skipping.\n"
     ]
    },
    {
     "name": "stdout",
     "output_type": "stream",
     "text": [
      "235/235 [==============================] - 15s 64ms/step - loss: 0.0195 - accuracy: 0.9938 - val_loss: 0.1622 - val_accuracy: 0.9484\n",
      "Epoch 46/100\n",
      "235/235 [==============================] - ETA: 0s - loss: 0.0075 - accuracy: 0.9977WARNING:tensorflow:Can save best model only with val_acc available, skipping.\n"
     ]
    },
    {
     "name": "stderr",
     "output_type": "stream",
     "text": [
      "WARNING:tensorflow:Can save best model only with val_acc available, skipping.\n"
     ]
    },
    {
     "name": "stdout",
     "output_type": "stream",
     "text": [
      "235/235 [==============================] - 15s 63ms/step - loss: 0.0075 - accuracy: 0.9977 - val_loss: 0.4094 - val_accuracy: 0.9023\n",
      "Epoch 47/100\n",
      "235/235 [==============================] - ETA: 0s - loss: 0.0107 - accuracy: 0.9961WARNING:tensorflow:Can save best model only with val_acc available, skipping.\n"
     ]
    },
    {
     "name": "stderr",
     "output_type": "stream",
     "text": [
      "WARNING:tensorflow:Can save best model only with val_acc available, skipping.\n"
     ]
    },
    {
     "name": "stdout",
     "output_type": "stream",
     "text": [
      "235/235 [==============================] - 14s 62ms/step - loss: 0.0107 - accuracy: 0.9961 - val_loss: 0.5781 - val_accuracy: 0.8603\n",
      "Epoch 48/100\n",
      "235/235 [==============================] - ETA: 0s - loss: 0.0126 - accuracy: 0.9965WARNING:tensorflow:Can save best model only with val_acc available, skipping.\n"
     ]
    },
    {
     "name": "stderr",
     "output_type": "stream",
     "text": [
      "WARNING:tensorflow:Can save best model only with val_acc available, skipping.\n"
     ]
    },
    {
     "name": "stdout",
     "output_type": "stream",
     "text": [
      "235/235 [==============================] - 14s 60ms/step - loss: 0.0126 - accuracy: 0.9965 - val_loss: 0.1073 - val_accuracy: 0.9717\n",
      "Epoch 49/100\n",
      "235/235 [==============================] - ETA: 0s - loss: 0.0081 - accuracy: 0.9970WARNING:tensorflow:Can save best model only with val_acc available, skipping.\n"
     ]
    },
    {
     "name": "stderr",
     "output_type": "stream",
     "text": [
      "WARNING:tensorflow:Can save best model only with val_acc available, skipping.\n"
     ]
    },
    {
     "name": "stdout",
     "output_type": "stream",
     "text": [
      "235/235 [==============================] - 14s 59ms/step - loss: 0.0081 - accuracy: 0.9970 - val_loss: 0.3344 - val_accuracy: 0.9035\n",
      "Epoch 50/100\n",
      "235/235 [==============================] - ETA: 0s - loss: 0.0203 - accuracy: 0.9936WARNING:tensorflow:Can save best model only with val_acc available, skipping.\n"
     ]
    },
    {
     "name": "stderr",
     "output_type": "stream",
     "text": [
      "WARNING:tensorflow:Can save best model only with val_acc available, skipping.\n"
     ]
    },
    {
     "name": "stdout",
     "output_type": "stream",
     "text": [
      "235/235 [==============================] - 14s 59ms/step - loss: 0.0203 - accuracy: 0.9936 - val_loss: 0.2354 - val_accuracy: 0.9271\n",
      "Epoch 51/100\n",
      "235/235 [==============================] - ETA: 0s - loss: 0.0081 - accuracy: 0.9973WARNING:tensorflow:Can save best model only with val_acc available, skipping.\n"
     ]
    },
    {
     "name": "stderr",
     "output_type": "stream",
     "text": [
      "WARNING:tensorflow:Can save best model only with val_acc available, skipping.\n"
     ]
    },
    {
     "name": "stdout",
     "output_type": "stream",
     "text": [
      "235/235 [==============================] - 14s 61ms/step - loss: 0.0081 - accuracy: 0.9973 - val_loss: 2.3170 - val_accuracy: 0.5701\n",
      "Epoch 52/100\n",
      "234/235 [============================>.] - ETA: 0s - loss: 0.0173 - accuracy: 0.9944WARNING:tensorflow:Can save best model only with val_acc available, skipping.\n"
     ]
    },
    {
     "name": "stderr",
     "output_type": "stream",
     "text": [
      "WARNING:tensorflow:Can save best model only with val_acc available, skipping.\n"
     ]
    },
    {
     "name": "stdout",
     "output_type": "stream",
     "text": [
      "235/235 [==============================] - 14s 61ms/step - loss: 0.0172 - accuracy: 0.9944 - val_loss: 0.2398 - val_accuracy: 0.9319\n",
      "Epoch 53/100\n",
      "235/235 [==============================] - ETA: 0s - loss: 0.0106 - accuracy: 0.9965WARNING:tensorflow:Can save best model only with val_acc available, skipping.\n"
     ]
    },
    {
     "name": "stderr",
     "output_type": "stream",
     "text": [
      "WARNING:tensorflow:Can save best model only with val_acc available, skipping.\n"
     ]
    },
    {
     "name": "stdout",
     "output_type": "stream",
     "text": [
      "235/235 [==============================] - 14s 62ms/step - loss: 0.0106 - accuracy: 0.9965 - val_loss: 0.0544 - val_accuracy: 0.9844\n",
      "Epoch 54/100\n",
      "234/235 [============================>.] - ETA: 0s - loss: 0.0118 - accuracy: 0.9960WARNING:tensorflow:Can save best model only with val_acc available, skipping.\n"
     ]
    },
    {
     "name": "stderr",
     "output_type": "stream",
     "text": [
      "WARNING:tensorflow:Can save best model only with val_acc available, skipping.\n"
     ]
    },
    {
     "name": "stdout",
     "output_type": "stream",
     "text": [
      "235/235 [==============================] - 15s 64ms/step - loss: 0.0117 - accuracy: 0.9960 - val_loss: 0.0440 - val_accuracy: 0.9836\n",
      "Epoch 55/100\n",
      "235/235 [==============================] - ETA: 0s - loss: 0.0121 - accuracy: 0.9961WARNING:tensorflow:Can save best model only with val_acc available, skipping.\n"
     ]
    },
    {
     "name": "stderr",
     "output_type": "stream",
     "text": [
      "WARNING:tensorflow:Can save best model only with val_acc available, skipping.\n"
     ]
    },
    {
     "name": "stdout",
     "output_type": "stream",
     "text": [
      "235/235 [==============================] - 14s 61ms/step - loss: 0.0121 - accuracy: 0.9961 - val_loss: 0.9116 - val_accuracy: 0.8065\n",
      "Epoch 56/100\n",
      "234/235 [============================>.] - ETA: 0s - loss: 0.0111 - accuracy: 0.9964WARNING:tensorflow:Can save best model only with val_acc available, skipping.\n"
     ]
    },
    {
     "name": "stderr",
     "output_type": "stream",
     "text": [
      "WARNING:tensorflow:Can save best model only with val_acc available, skipping.\n"
     ]
    },
    {
     "name": "stdout",
     "output_type": "stream",
     "text": [
      "235/235 [==============================] - 14s 60ms/step - loss: 0.0111 - accuracy: 0.9964 - val_loss: 0.1029 - val_accuracy: 0.9659\n",
      "Epoch 57/100\n",
      "235/235 [==============================] - ETA: 0s - loss: 0.0076 - accuracy: 0.9978WARNING:tensorflow:Can save best model only with val_acc available, skipping.\n"
     ]
    },
    {
     "name": "stderr",
     "output_type": "stream",
     "text": [
      "WARNING:tensorflow:Can save best model only with val_acc available, skipping.\n"
     ]
    },
    {
     "name": "stdout",
     "output_type": "stream",
     "text": [
      "235/235 [==============================] - 14s 61ms/step - loss: 0.0076 - accuracy: 0.9978 - val_loss: 0.1143 - val_accuracy: 0.9653\n",
      "Epoch 58/100\n",
      "235/235 [==============================] - ETA: 0s - loss: 0.0077 - accuracy: 0.9976WARNING:tensorflow:Can save best model only with val_acc available, skipping.\n"
     ]
    },
    {
     "name": "stderr",
     "output_type": "stream",
     "text": [
      "WARNING:tensorflow:Can save best model only with val_acc available, skipping.\n"
     ]
    },
    {
     "name": "stdout",
     "output_type": "stream",
     "text": [
      "235/235 [==============================] - 14s 59ms/step - loss: 0.0077 - accuracy: 0.9976 - val_loss: 1.0536 - val_accuracy: 0.7699\n",
      "Epoch 59/100\n",
      "235/235 [==============================] - ETA: 0s - loss: 0.0180 - accuracy: 0.9947WARNING:tensorflow:Can save best model only with val_acc available, skipping.\n"
     ]
    },
    {
     "name": "stderr",
     "output_type": "stream",
     "text": [
      "WARNING:tensorflow:Can save best model only with val_acc available, skipping.\n"
     ]
    },
    {
     "name": "stdout",
     "output_type": "stream",
     "text": [
      "235/235 [==============================] - 14s 59ms/step - loss: 0.0180 - accuracy: 0.9947 - val_loss: 0.0376 - val_accuracy: 0.9892\n",
      "Epoch 60/100\n",
      "235/235 [==============================] - ETA: 0s - loss: 0.0149 - accuracy: 0.9955WARNING:tensorflow:Can save best model only with val_acc available, skipping.\n"
     ]
    },
    {
     "name": "stderr",
     "output_type": "stream",
     "text": [
      "WARNING:tensorflow:Can save best model only with val_acc available, skipping.\n"
     ]
    },
    {
     "name": "stdout",
     "output_type": "stream",
     "text": [
      "235/235 [==============================] - 14s 59ms/step - loss: 0.0149 - accuracy: 0.9955 - val_loss: 0.3820 - val_accuracy: 0.8899\n",
      "Epoch 61/100\n",
      "234/235 [============================>.] - ETA: 0s - loss: 0.0125 - accuracy: 0.9961WARNING:tensorflow:Can save best model only with val_acc available, skipping.\n"
     ]
    },
    {
     "name": "stderr",
     "output_type": "stream",
     "text": [
      "WARNING:tensorflow:Can save best model only with val_acc available, skipping.\n"
     ]
    },
    {
     "name": "stdout",
     "output_type": "stream",
     "text": [
      "235/235 [==============================] - 14s 60ms/step - loss: 0.0126 - accuracy: 0.9960 - val_loss: 0.3940 - val_accuracy: 0.8810\n",
      "Epoch 62/100\n",
      "234/235 [============================>.] - ETA: 0s - loss: 0.0089 - accuracy: 0.9972WARNING:tensorflow:Can save best model only with val_acc available, skipping.\n"
     ]
    },
    {
     "name": "stderr",
     "output_type": "stream",
     "text": [
      "WARNING:tensorflow:Can save best model only with val_acc available, skipping.\n"
     ]
    },
    {
     "name": "stdout",
     "output_type": "stream",
     "text": [
      "235/235 [==============================] - 14s 61ms/step - loss: 0.0089 - accuracy: 0.9972 - val_loss: 0.4278 - val_accuracy: 0.8843\n",
      "Epoch 63/100\n",
      "234/235 [============================>.] - ETA: 0s - loss: 0.0039 - accuracy: 0.9986WARNING:tensorflow:Can save best model only with val_acc available, skipping.\n"
     ]
    },
    {
     "name": "stderr",
     "output_type": "stream",
     "text": [
      "WARNING:tensorflow:Can save best model only with val_acc available, skipping.\n"
     ]
    },
    {
     "name": "stdout",
     "output_type": "stream",
     "text": [
      "235/235 [==============================] - 14s 60ms/step - loss: 0.0039 - accuracy: 0.9986 - val_loss: 0.1684 - val_accuracy: 0.9542\n",
      "Epoch 64/100\n",
      "235/235 [==============================] - ETA: 0s - loss: 0.0051 - accuracy: 0.9983WARNING:tensorflow:Can save best model only with val_acc available, skipping.\n"
     ]
    },
    {
     "name": "stderr",
     "output_type": "stream",
     "text": [
      "WARNING:tensorflow:Can save best model only with val_acc available, skipping.\n"
     ]
    },
    {
     "name": "stdout",
     "output_type": "stream",
     "text": [
      "235/235 [==============================] - 14s 60ms/step - loss: 0.0051 - accuracy: 0.9983 - val_loss: 0.1153 - val_accuracy: 0.9722\n",
      "Epoch 65/100\n",
      "235/235 [==============================] - ETA: 0s - loss: 0.0150 - accuracy: 0.9949WARNING:tensorflow:Can save best model only with val_acc available, skipping.\n"
     ]
    },
    {
     "name": "stderr",
     "output_type": "stream",
     "text": [
      "WARNING:tensorflow:Can save best model only with val_acc available, skipping.\n"
     ]
    },
    {
     "name": "stdout",
     "output_type": "stream",
     "text": [
      "235/235 [==============================] - 14s 61ms/step - loss: 0.0150 - accuracy: 0.9949 - val_loss: 0.5411 - val_accuracy: 0.8577\n",
      "Epoch 66/100\n",
      "234/235 [============================>.] - ETA: 0s - loss: 0.0062 - accuracy: 0.9983WARNING:tensorflow:Can save best model only with val_acc available, skipping.\n"
     ]
    },
    {
     "name": "stderr",
     "output_type": "stream",
     "text": [
      "WARNING:tensorflow:Can save best model only with val_acc available, skipping.\n"
     ]
    },
    {
     "name": "stdout",
     "output_type": "stream",
     "text": [
      "235/235 [==============================] - 14s 59ms/step - loss: 0.0062 - accuracy: 0.9983 - val_loss: 0.0634 - val_accuracy: 0.9775\n",
      "Epoch 67/100\n",
      "234/235 [============================>.] - ETA: 0s - loss: 0.0053 - accuracy: 0.9984WARNING:tensorflow:Can save best model only with val_acc available, skipping.\n"
     ]
    },
    {
     "name": "stderr",
     "output_type": "stream",
     "text": [
      "WARNING:tensorflow:Can save best model only with val_acc available, skipping.\n"
     ]
    },
    {
     "name": "stdout",
     "output_type": "stream",
     "text": [
      "235/235 [==============================] - 14s 59ms/step - loss: 0.0053 - accuracy: 0.9984 - val_loss: 0.2903 - val_accuracy: 0.9296\n",
      "Epoch 68/100\n",
      "235/235 [==============================] - ETA: 0s - loss: 0.0071 - accuracy: 0.9980WARNING:tensorflow:Can save best model only with val_acc available, skipping.\n"
     ]
    },
    {
     "name": "stderr",
     "output_type": "stream",
     "text": [
      "WARNING:tensorflow:Can save best model only with val_acc available, skipping.\n"
     ]
    },
    {
     "name": "stdout",
     "output_type": "stream",
     "text": [
      "235/235 [==============================] - 14s 59ms/step - loss: 0.0071 - accuracy: 0.9980 - val_loss: 0.0536 - val_accuracy: 0.9834\n",
      "Epoch 69/100\n",
      "234/235 [============================>.] - ETA: 0s - loss: 0.0188 - accuracy: 0.9941WARNING:tensorflow:Can save best model only with val_acc available, skipping.\n"
     ]
    },
    {
     "name": "stderr",
     "output_type": "stream",
     "text": [
      "WARNING:tensorflow:Can save best model only with val_acc available, skipping.\n"
     ]
    },
    {
     "name": "stdout",
     "output_type": "stream",
     "text": [
      "235/235 [==============================] - 14s 59ms/step - loss: 0.0188 - accuracy: 0.9941 - val_loss: 0.7125 - val_accuracy: 0.7949\n",
      "Epoch 70/100\n",
      "234/235 [============================>.] - ETA: 0s - loss: 0.0148 - accuracy: 0.9959WARNING:tensorflow:Can save best model only with val_acc available, skipping.\n"
     ]
    },
    {
     "name": "stderr",
     "output_type": "stream",
     "text": [
      "WARNING:tensorflow:Can save best model only with val_acc available, skipping.\n"
     ]
    },
    {
     "name": "stdout",
     "output_type": "stream",
     "text": [
      "235/235 [==============================] - 14s 61ms/step - loss: 0.0147 - accuracy: 0.9959 - val_loss: 0.0744 - val_accuracy: 0.9760\n",
      "Epoch 71/100\n",
      "235/235 [==============================] - ETA: 0s - loss: 0.0075 - accuracy: 0.9978WARNING:tensorflow:Can save best model only with val_acc available, skipping.\n"
     ]
    },
    {
     "name": "stderr",
     "output_type": "stream",
     "text": [
      "WARNING:tensorflow:Can save best model only with val_acc available, skipping.\n"
     ]
    },
    {
     "name": "stdout",
     "output_type": "stream",
     "text": [
      "235/235 [==============================] - 14s 60ms/step - loss: 0.0075 - accuracy: 0.9978 - val_loss: 0.1213 - val_accuracy: 0.9629\n",
      "Epoch 72/100\n",
      "235/235 [==============================] - ETA: 0s - loss: 0.0046 - accuracy: 0.9986WARNING:tensorflow:Can save best model only with val_acc available, skipping.\n"
     ]
    },
    {
     "name": "stderr",
     "output_type": "stream",
     "text": [
      "WARNING:tensorflow:Can save best model only with val_acc available, skipping.\n"
     ]
    },
    {
     "name": "stdout",
     "output_type": "stream",
     "text": [
      "235/235 [==============================] - 15s 63ms/step - loss: 0.0046 - accuracy: 0.9986 - val_loss: 0.2486 - val_accuracy: 0.9251\n",
      "Epoch 73/100\n",
      "235/235 [==============================] - ETA: 0s - loss: 0.0081 - accuracy: 0.9972WARNING:tensorflow:Can save best model only with val_acc available, skipping.\n"
     ]
    },
    {
     "name": "stderr",
     "output_type": "stream",
     "text": [
      "WARNING:tensorflow:Can save best model only with val_acc available, skipping.\n"
     ]
    },
    {
     "name": "stdout",
     "output_type": "stream",
     "text": [
      "235/235 [==============================] - 15s 63ms/step - loss: 0.0081 - accuracy: 0.9972 - val_loss: 0.4993 - val_accuracy: 0.8605\n",
      "Epoch 74/100\n",
      "235/235 [==============================] - ETA: 0s - loss: 0.0099 - accuracy: 0.9974WARNING:tensorflow:Can save best model only with val_acc available, skipping.\n"
     ]
    },
    {
     "name": "stderr",
     "output_type": "stream",
     "text": [
      "WARNING:tensorflow:Can save best model only with val_acc available, skipping.\n"
     ]
    },
    {
     "name": "stdout",
     "output_type": "stream",
     "text": [
      "235/235 [==============================] - 14s 61ms/step - loss: 0.0099 - accuracy: 0.9974 - val_loss: 0.6270 - val_accuracy: 0.8595\n",
      "Epoch 75/100\n",
      "234/235 [============================>.] - ETA: 0s - loss: 0.0093 - accuracy: 0.9968WARNING:tensorflow:Can save best model only with val_acc available, skipping.\n"
     ]
    },
    {
     "name": "stderr",
     "output_type": "stream",
     "text": [
      "WARNING:tensorflow:Can save best model only with val_acc available, skipping.\n"
     ]
    },
    {
     "name": "stdout",
     "output_type": "stream",
     "text": [
      "235/235 [==============================] - 14s 61ms/step - loss: 0.0093 - accuracy: 0.9968 - val_loss: 0.0464 - val_accuracy: 0.9851\n",
      "Epoch 76/100\n",
      "235/235 [==============================] - ETA: 0s - loss: 0.0072 - accuracy: 0.9981WARNING:tensorflow:Can save best model only with val_acc available, skipping.\n"
     ]
    },
    {
     "name": "stderr",
     "output_type": "stream",
     "text": [
      "WARNING:tensorflow:Can save best model only with val_acc available, skipping.\n"
     ]
    },
    {
     "name": "stdout",
     "output_type": "stream",
     "text": [
      "235/235 [==============================] - 14s 60ms/step - loss: 0.0072 - accuracy: 0.9981 - val_loss: 0.0491 - val_accuracy: 0.9820\n",
      "Epoch 77/100\n",
      "234/235 [============================>.] - ETA: 0s - loss: 0.0054 - accuracy: 0.9983WARNING:tensorflow:Can save best model only with val_acc available, skipping.\n"
     ]
    },
    {
     "name": "stderr",
     "output_type": "stream",
     "text": [
      "WARNING:tensorflow:Can save best model only with val_acc available, skipping.\n"
     ]
    },
    {
     "name": "stdout",
     "output_type": "stream",
     "text": [
      "235/235 [==============================] - 14s 59ms/step - loss: 0.0055 - accuracy: 0.9983 - val_loss: 0.2506 - val_accuracy: 0.9321\n",
      "Epoch 78/100\n",
      "235/235 [==============================] - ETA: 0s - loss: 0.0058 - accuracy: 0.9980WARNING:tensorflow:Can save best model only with val_acc available, skipping.\n"
     ]
    },
    {
     "name": "stderr",
     "output_type": "stream",
     "text": [
      "WARNING:tensorflow:Can save best model only with val_acc available, skipping.\n"
     ]
    },
    {
     "name": "stdout",
     "output_type": "stream",
     "text": [
      "235/235 [==============================] - 14s 58ms/step - loss: 0.0058 - accuracy: 0.9980 - val_loss: 0.0491 - val_accuracy: 0.9856\n",
      "Epoch 79/100\n",
      "234/235 [============================>.] - ETA: 0s - loss: 0.0076 - accuracy: 0.9976WARNING:tensorflow:Can save best model only with val_acc available, skipping.\n"
     ]
    },
    {
     "name": "stderr",
     "output_type": "stream",
     "text": [
      "WARNING:tensorflow:Can save best model only with val_acc available, skipping.\n"
     ]
    },
    {
     "name": "stdout",
     "output_type": "stream",
     "text": [
      "235/235 [==============================] - 14s 60ms/step - loss: 0.0076 - accuracy: 0.9976 - val_loss: 0.1715 - val_accuracy: 0.9424\n",
      "Epoch 80/100\n",
      "235/235 [==============================] - ETA: 0s - loss: 0.0148 - accuracy: 0.9957WARNING:tensorflow:Can save best model only with val_acc available, skipping.\n"
     ]
    },
    {
     "name": "stderr",
     "output_type": "stream",
     "text": [
      "WARNING:tensorflow:Can save best model only with val_acc available, skipping.\n"
     ]
    },
    {
     "name": "stdout",
     "output_type": "stream",
     "text": [
      "235/235 [==============================] - 14s 61ms/step - loss: 0.0148 - accuracy: 0.9957 - val_loss: 0.0215 - val_accuracy: 0.9943\n",
      "Epoch 81/100\n",
      "234/235 [============================>.] - ETA: 0s - loss: 0.0053 - accuracy: 0.9986WARNING:tensorflow:Can save best model only with val_acc available, skipping.\n"
     ]
    },
    {
     "name": "stderr",
     "output_type": "stream",
     "text": [
      "WARNING:tensorflow:Can save best model only with val_acc available, skipping.\n"
     ]
    },
    {
     "name": "stdout",
     "output_type": "stream",
     "text": [
      "235/235 [==============================] - 14s 61ms/step - loss: 0.0054 - accuracy: 0.9985 - val_loss: 0.6560 - val_accuracy: 0.8323\n",
      "Epoch 82/100\n",
      "235/235 [==============================] - ETA: 0s - loss: 0.0109 - accuracy: 0.9964WARNING:tensorflow:Can save best model only with val_acc available, skipping.\n"
     ]
    },
    {
     "name": "stderr",
     "output_type": "stream",
     "text": [
      "WARNING:tensorflow:Can save best model only with val_acc available, skipping.\n"
     ]
    },
    {
     "name": "stdout",
     "output_type": "stream",
     "text": [
      "235/235 [==============================] - 14s 61ms/step - loss: 0.0109 - accuracy: 0.9964 - val_loss: 0.0069 - val_accuracy: 0.9963\n",
      "Epoch 83/100\n",
      "234/235 [============================>.] - ETA: 0s - loss: 0.0032 - accuracy: 0.9993WARNING:tensorflow:Can save best model only with val_acc available, skipping.\n"
     ]
    },
    {
     "name": "stderr",
     "output_type": "stream",
     "text": [
      "WARNING:tensorflow:Can save best model only with val_acc available, skipping.\n"
     ]
    },
    {
     "name": "stdout",
     "output_type": "stream",
     "text": [
      "235/235 [==============================] - 14s 61ms/step - loss: 0.0032 - accuracy: 0.9993 - val_loss: 0.0436 - val_accuracy: 0.9855\n",
      "Epoch 84/100\n",
      "234/235 [============================>.] - ETA: 0s - loss: 0.0099 - accuracy: 0.9970WARNING:tensorflow:Can save best model only with val_acc available, skipping.\n"
     ]
    },
    {
     "name": "stderr",
     "output_type": "stream",
     "text": [
      "WARNING:tensorflow:Can save best model only with val_acc available, skipping.\n"
     ]
    },
    {
     "name": "stdout",
     "output_type": "stream",
     "text": [
      "235/235 [==============================] - 15s 62ms/step - loss: 0.0099 - accuracy: 0.9970 - val_loss: 2.5038 - val_accuracy: 0.4051\n",
      "Epoch 85/100\n",
      "235/235 [==============================] - ETA: 0s - loss: 0.0126 - accuracy: 0.9964WARNING:tensorflow:Can save best model only with val_acc available, skipping.\n"
     ]
    },
    {
     "name": "stderr",
     "output_type": "stream",
     "text": [
      "WARNING:tensorflow:Can save best model only with val_acc available, skipping.\n"
     ]
    },
    {
     "name": "stdout",
     "output_type": "stream",
     "text": [
      "235/235 [==============================] - 14s 59ms/step - loss: 0.0126 - accuracy: 0.9964 - val_loss: 0.1401 - val_accuracy: 0.9465\n",
      "Epoch 86/100\n",
      "235/235 [==============================] - ETA: 0s - loss: 0.0057 - accuracy: 0.9985WARNING:tensorflow:Can save best model only with val_acc available, skipping.\n"
     ]
    },
    {
     "name": "stderr",
     "output_type": "stream",
     "text": [
      "WARNING:tensorflow:Can save best model only with val_acc available, skipping.\n"
     ]
    },
    {
     "name": "stdout",
     "output_type": "stream",
     "text": [
      "235/235 [==============================] - 14s 59ms/step - loss: 0.0057 - accuracy: 0.9985 - val_loss: 0.0421 - val_accuracy: 0.9838\n",
      "Epoch 87/100\n",
      "235/235 [==============================] - ETA: 0s - loss: 0.0029 - accuracy: 0.9992WARNING:tensorflow:Can save best model only with val_acc available, skipping.\n"
     ]
    },
    {
     "name": "stderr",
     "output_type": "stream",
     "text": [
      "WARNING:tensorflow:Can save best model only with val_acc available, skipping.\n"
     ]
    },
    {
     "name": "stdout",
     "output_type": "stream",
     "text": [
      "235/235 [==============================] - 15s 62ms/step - loss: 0.0029 - accuracy: 0.9992 - val_loss: 0.0650 - val_accuracy: 0.9780\n",
      "Epoch 88/100\n",
      "235/235 [==============================] - ETA: 0s - loss: 0.0042 - accuracy: 0.9988WARNING:tensorflow:Can save best model only with val_acc available, skipping.\n"
     ]
    },
    {
     "name": "stderr",
     "output_type": "stream",
     "text": [
      "WARNING:tensorflow:Can save best model only with val_acc available, skipping.\n"
     ]
    },
    {
     "name": "stdout",
     "output_type": "stream",
     "text": [
      "235/235 [==============================] - 14s 61ms/step - loss: 0.0042 - accuracy: 0.9988 - val_loss: 0.0039 - val_accuracy: 0.9992\n",
      "Epoch 89/100\n",
      "235/235 [==============================] - ETA: 0s - loss: 0.0046 - accuracy: 0.9988WARNING:tensorflow:Can save best model only with val_acc available, skipping.\n"
     ]
    },
    {
     "name": "stderr",
     "output_type": "stream",
     "text": [
      "WARNING:tensorflow:Can save best model only with val_acc available, skipping.\n"
     ]
    },
    {
     "name": "stdout",
     "output_type": "stream",
     "text": [
      "235/235 [==============================] - 15s 64ms/step - loss: 0.0046 - accuracy: 0.9988 - val_loss: 0.0417 - val_accuracy: 0.9892\n",
      "Epoch 90/100\n",
      "235/235 [==============================] - ETA: 0s - loss: 0.0095 - accuracy: 0.9972WARNING:tensorflow:Can save best model only with val_acc available, skipping.\n"
     ]
    },
    {
     "name": "stderr",
     "output_type": "stream",
     "text": [
      "WARNING:tensorflow:Can save best model only with val_acc available, skipping.\n"
     ]
    },
    {
     "name": "stdout",
     "output_type": "stream",
     "text": [
      "235/235 [==============================] - 15s 64ms/step - loss: 0.0095 - accuracy: 0.9972 - val_loss: 0.1613 - val_accuracy: 0.9416\n",
      "Epoch 91/100\n",
      "235/235 [==============================] - ETA: 0s - loss: 0.0130 - accuracy: 0.9959WARNING:tensorflow:Can save best model only with val_acc available, skipping.\n"
     ]
    },
    {
     "name": "stderr",
     "output_type": "stream",
     "text": [
      "WARNING:tensorflow:Can save best model only with val_acc available, skipping.\n"
     ]
    },
    {
     "name": "stdout",
     "output_type": "stream",
     "text": [
      "235/235 [==============================] - 15s 63ms/step - loss: 0.0130 - accuracy: 0.9959 - val_loss: 0.0052 - val_accuracy: 0.9971\n",
      "Epoch 92/100\n",
      "235/235 [==============================] - ETA: 0s - loss: 0.0030 - accuracy: 0.9989WARNING:tensorflow:Can save best model only with val_acc available, skipping.\n"
     ]
    },
    {
     "name": "stderr",
     "output_type": "stream",
     "text": [
      "WARNING:tensorflow:Can save best model only with val_acc available, skipping.\n"
     ]
    },
    {
     "name": "stdout",
     "output_type": "stream",
     "text": [
      "235/235 [==============================] - 14s 61ms/step - loss: 0.0030 - accuracy: 0.9989 - val_loss: 0.0787 - val_accuracy: 0.9762\n",
      "Epoch 93/100\n",
      "235/235 [==============================] - ETA: 0s - loss: 0.0086 - accuracy: 0.9978WARNING:tensorflow:Can save best model only with val_acc available, skipping.\n"
     ]
    },
    {
     "name": "stderr",
     "output_type": "stream",
     "text": [
      "WARNING:tensorflow:Can save best model only with val_acc available, skipping.\n"
     ]
    },
    {
     "name": "stdout",
     "output_type": "stream",
     "text": [
      "235/235 [==============================] - 15s 62ms/step - loss: 0.0086 - accuracy: 0.9978 - val_loss: 0.0231 - val_accuracy: 0.9917\n",
      "Epoch 94/100\n",
      "234/235 [============================>.] - ETA: 0s - loss: 0.0066 - accuracy: 0.9981WARNING:tensorflow:Can save best model only with val_acc available, skipping.\n"
     ]
    },
    {
     "name": "stderr",
     "output_type": "stream",
     "text": [
      "WARNING:tensorflow:Can save best model only with val_acc available, skipping.\n"
     ]
    },
    {
     "name": "stdout",
     "output_type": "stream",
     "text": [
      "235/235 [==============================] - 14s 60ms/step - loss: 0.0066 - accuracy: 0.9981 - val_loss: 0.0253 - val_accuracy: 0.9919\n",
      "Epoch 95/100\n",
      "234/235 [============================>.] - ETA: 0s - loss: 0.0048 - accuracy: 0.9987WARNING:tensorflow:Can save best model only with val_acc available, skipping.\n"
     ]
    },
    {
     "name": "stderr",
     "output_type": "stream",
     "text": [
      "WARNING:tensorflow:Can save best model only with val_acc available, skipping.\n"
     ]
    },
    {
     "name": "stdout",
     "output_type": "stream",
     "text": [
      "235/235 [==============================] - 14s 59ms/step - loss: 0.0048 - accuracy: 0.9987 - val_loss: 0.0066 - val_accuracy: 0.9987\n",
      "Epoch 96/100\n",
      "235/235 [==============================] - ETA: 0s - loss: 5.6095e-04 - accuracy: 0.9999WARNING:tensorflow:Can save best model only with val_acc available, skipping.\n"
     ]
    },
    {
     "name": "stderr",
     "output_type": "stream",
     "text": [
      "WARNING:tensorflow:Can save best model only with val_acc available, skipping.\n"
     ]
    },
    {
     "name": "stdout",
     "output_type": "stream",
     "text": [
      "235/235 [==============================] - 14s 59ms/step - loss: 5.6095e-04 - accuracy: 0.9999 - val_loss: 3.1783e-04 - val_accuracy: 1.0000\n",
      "Epoch 97/100\n",
      "234/235 [============================>.] - ETA: 0s - loss: 0.0059 - accuracy: 0.9982WARNING:tensorflow:Can save best model only with val_acc available, skipping.\n"
     ]
    },
    {
     "name": "stderr",
     "output_type": "stream",
     "text": [
      "WARNING:tensorflow:Can save best model only with val_acc available, skipping.\n"
     ]
    },
    {
     "name": "stdout",
     "output_type": "stream",
     "text": [
      "235/235 [==============================] - 14s 60ms/step - loss: 0.0059 - accuracy: 0.9982 - val_loss: 0.2780 - val_accuracy: 0.9228\n",
      "Epoch 98/100\n",
      "234/235 [============================>.] - ETA: 0s - loss: 0.0084 - accuracy: 0.9972WARNING:tensorflow:Can save best model only with val_acc available, skipping.\n"
     ]
    },
    {
     "name": "stderr",
     "output_type": "stream",
     "text": [
      "WARNING:tensorflow:Can save best model only with val_acc available, skipping.\n"
     ]
    },
    {
     "name": "stdout",
     "output_type": "stream",
     "text": [
      "235/235 [==============================] - 15s 62ms/step - loss: 0.0084 - accuracy: 0.9972 - val_loss: 0.1069 - val_accuracy: 0.9647\n",
      "Epoch 99/100\n",
      "235/235 [==============================] - ETA: 0s - loss: 0.0111 - accuracy: 0.9964WARNING:tensorflow:Can save best model only with val_acc available, skipping.\n"
     ]
    },
    {
     "name": "stderr",
     "output_type": "stream",
     "text": [
      "WARNING:tensorflow:Can save best model only with val_acc available, skipping.\n"
     ]
    },
    {
     "name": "stdout",
     "output_type": "stream",
     "text": [
      "235/235 [==============================] - 15s 62ms/step - loss: 0.0111 - accuracy: 0.9964 - val_loss: 0.2550 - val_accuracy: 0.9098\n",
      "Epoch 100/100\n",
      "235/235 [==============================] - ETA: 0s - loss: 0.0049 - accuracy: 0.9984WARNING:tensorflow:Can save best model only with val_acc available, skipping.\n"
     ]
    },
    {
     "name": "stderr",
     "output_type": "stream",
     "text": [
      "WARNING:tensorflow:Can save best model only with val_acc available, skipping.\n"
     ]
    },
    {
     "name": "stdout",
     "output_type": "stream",
     "text": [
      "235/235 [==============================] - 15s 62ms/step - loss: 0.0049 - accuracy: 0.9984 - val_loss: 0.0397 - val_accuracy: 0.9868\n",
      "Duration: 0:23:48.562419\n"
     ]
    }
   ],
   "source": [
    "from datetime import datetime\n",
    "start_time = datetime.now()\n",
    "\n",
    "history = model.fit(x_train,\n",
    "                    y_train,\n",
    "                    validation_split=0.2,\n",
    "                    batch_size = 128,\n",
    "                    epochs = 100,\n",
    "                    shuffle=True,\n",
    "                    callbacks=[callback])\n",
    "\n",
    "end_time = datetime.now()\n",
    "print('Duration: {}'.format(end_time - start_time))"
   ]
  },
  {
   "cell_type": "code",
   "execution_count": 23,
   "id": "da3d6876",
   "metadata": {},
   "outputs": [
    {
     "name": "stdout",
     "output_type": "stream",
     "text": [
      "Training history and model saved successfully.\n"
     ]
    }
   ],
   "source": [
    "import pickle\n",
    "training_history = {\n",
    "    'loss': history.history['loss'],\n",
    "    'accuracy': history.history['accuracy'],\n",
    "    'val_loss': history.history['val_loss'],\n",
    "    'val_accuracy': history.history['val_accuracy']\n",
    "}\n",
    "with open('training_history.pkl', 'wb') as file:\n",
    "    pickle.dump(training_history, file)\n",
    "model.save('trained_model.h5')\n",
    "\n",
    "print(\"Training history and model saved successfully.\")"
   ]
  },
  {
   "cell_type": "markdown",
   "id": "4fa0877c",
   "metadata": {},
   "source": [
    "# Step 8: Model Evaluation"
   ]
  },
  {
   "cell_type": "code",
   "execution_count": 24,
   "id": "e40f38fa",
   "metadata": {},
   "outputs": [
    {
     "data": {
      "image/png": "[encoded data removed]",
      "text/plain": [
       "<Figure size 432x288 with 1 Axes>"
      ]
     },
     "metadata": {
      "needs_background": "light"
     },
     "output_type": "display_data"
    }
   ],
   "source": [
    "plt.plot(history.history['accuracy'])\n",
    "plt.plot(history.history['val_accuracy'])\n",
    "plt.title('model accuracy')\n",
    "plt.ylabel('accuracy')\n",
    "plt.xlabel('epoch')\n",
    "plt.legend(['train', 'val'], loc='upper left')\n",
    "plt.show()"
   ]
  },
  {
   "cell_type": "code",
   "execution_count": 25,
   "id": "cbfeeade",
   "metadata": {},
   "outputs": [
    {
     "data": {
      "image/png": "[encoded data removed]",
      "text/plain": [
       "<Figure size 432x288 with 1 Axes>"
      ]
     },
     "metadata": {
      "needs_background": "light"
     },
     "output_type": "display_data"
    }
   ],
   "source": [
    "plt.plot(history.history['loss'])\n",
    "plt.plot(history.history['val_loss'])\n",
    "plt.title('model loss')\n",
    "plt.ylabel('loss')\n",
    "plt.xlabel('epoch')\n",
    "plt.legend(['train', 'val'], loc='upper left')\n",
    "plt.show()"
   ]
  },
  {
   "cell_type": "code",
   "execution_count": 26,
   "id": "2bd98d26",
   "metadata": {},
   "outputs": [
    {
     "name": "stdout",
     "output_type": "stream",
     "text": [
      "63/63 [==============================] - 1s 8ms/step - loss: 1.8228 - accuracy: 0.7434\n"
     ]
    }
   ],
   "source": [
    "x_test=np.array(x_test).reshape(-1,28,28,3)\n",
    "loss, acc = model.evaluate(x_test, y_test, verbose=1)"
   ]
  },
  {
   "cell_type": "code",
   "execution_count": 36,
   "id": "5eb8b3cf",
   "metadata": {},
   "outputs": [
    {
     "data": {
      "image/png": "[encoded data removed]",
      "text/plain": [
       "<Figure size 432x288 with 1 Axes>"
      ]
     },
     "metadata": {
      "needs_background": "light"
     },
     "output_type": "display_data"
    },
    {
     "name": "stdout",
     "output_type": "stream",
     "text": [
      "1/1 [==============================] - 0s 16ms/step\n",
      "[1.3919893e-08 4.6923315e-10 1.7206126e-08 1.0793452e-08 9.9999797e-01\n",
      " 3.0817844e-08 2.0250718e-06]\n",
      "('nv', ' melanocytic nevi')\n"
     ]
    }
   ],
   "source": [
    "import PIL\n",
    "import matplotlib.pyplot as plt\n",
    "import numpy as np\n",
    "\n",
    "image = PIL.Image.open('D:/Downloads/3.jpeg')\n",
    "image = image.resize((28, 28))\n",
    "img = np.array(image)\n",
    "\n",
    "plt.imshow(img)\n",
    "plt.axis('off') \n",
    "plt.show()\n",
    "\n",
    "img = img.reshape(-1, 28, 28, 3)\n",
    "result = model.predict(img)\n",
    "print(result[0])\n",
    "\n",
    "result = result.tolist()\n",
    "max_prob = max(result[0])\n",
    "class_ind = result[0].index(max_prob)\n",
    "print(classes[class_ind])\n"
   ]
  },
  {
   "cell_type": "code",
   "execution_count": 39,
   "id": "ae9aee29",
   "metadata": {},
   "outputs": [
    {
     "data": {
      "image/png": "[encoded data removed]",
      "text/plain": [
       "<Figure size 432x288 with 1 Axes>"
      ]
     },
     "metadata": {
      "needs_background": "light"
     },
     "output_type": "display_data"
    },
    {
     "name": "stdout",
     "output_type": "stream",
     "text": [
      "1/1 [==============================] - 0s 18ms/step\n",
      "[1.53706875e-02 4.51439284e-02 5.54567727e-04 6.42717758e-04\n",
      " 2.60776669e-01 6.60981059e-01 1.65303424e-02]\n",
      "('vasc', ' pyogenic granulomas and hemorrhage')\n"
     ]
    }
   ],
   "source": [
    "import PIL\n",
    "import matplotlib.pyplot as plt\n",
    "import numpy as np\n",
    "\n",
    "image = PIL.Image.open('D:/Downloads/basalCellCarcinomaBCC_6163_lg.jpg')\n",
    "image = image.resize((28, 28))\n",
    "img = np.array(image)\n",
    "\n",
    "plt.imshow(img)\n",
    "plt.axis('off') \n",
    "plt.show()\n",
    "\n",
    "img = img.reshape(-1, 28, 28, 3)\n",
    "result = model.predict(img)\n",
    "print(result[0])\n",
    "\n",
    "result = result.tolist()\n",
    "max_prob = max(result[0])\n",
    "class_ind = result[0].index(max_prob)\n",
    "print(classes[class_ind])\n"
   ]
  },
  {
   "cell_type": "code",
   "execution_count": 28,
   "id": "626d507d",
   "metadata": {},
   "outputs": [
    {
     "name": "stdout",
     "output_type": "stream",
     "text": [
      "Directory 'D:/PROJECT' already exists.\n"
     ]
    }
   ],
   "source": [
    "import os\n",
    "\n",
    "# Specify the directory path where you want to save the model\n",
    "directory_path = 'D:/PROJECT'\n",
    "\n",
    "# Check if the directory already exists, if not, create it\n",
    "if not os.path.exists(directory_path):\n",
    "    os.makedirs(directory_path)\n",
    "    print(f\"Directory '{directory_path}' created.\")\n",
    "else:\n",
    "    print(f\"Directory '{directory_path}' already exists.\")\n"
   ]
  },
  {
   "cell_type": "code",
   "execution_count": 30,
   "id": "515e6d4f",
   "metadata": {},
   "outputs": [
    {
     "name": "stdout",
     "output_type": "stream",
     "text": [
      "Keras weights file (<HDF5 file \"variables.h5\" (mode r+)>) saving:\n",
      "...layers\\batch_normalization\n",
      "......vars\n",
      ".........0\n",
      ".........1\n",
      ".........2\n",
      ".........3\n",
      "...layers\\batch_normalization_1\n",
      "......vars\n",
      ".........0\n",
      ".........1\n",
      ".........2\n",
      ".........3\n",
      "...layers\\batch_normalization_2\n",
      "......vars\n",
      ".........0\n",
      ".........1\n",
      ".........2\n",
      ".........3\n",
      "...layers\\batch_normalization_3\n",
      "......vars\n",
      ".........0\n",
      ".........1\n",
      ".........2\n",
      ".........3\n",
      "...layers\\batch_normalization_4\n",
      "......vars\n",
      ".........0\n",
      ".........1\n",
      ".........2\n",
      ".........3\n",
      "...layers\\batch_normalization_5\n",
      "......vars\n",
      ".........0\n",
      ".........1\n",
      ".........2\n",
      ".........3\n",
      "...layers\\conv2d\n",
      "......vars\n",
      ".........0\n",
      ".........1\n",
      "...layers\\conv2d_1\n",
      "......vars\n",
      ".........0\n",
      ".........1\n",
      "...layers\\conv2d_2\n",
      "......vars\n",
      ".........0\n",
      ".........1\n",
      "...layers\\conv2d_3\n",
      "......vars\n",
      ".........0\n",
      ".........1\n",
      "...layers\\conv2d_4\n",
      "......vars\n",
      ".........0\n",
      ".........1\n",
      "...layers\\dense\n",
      "......vars\n",
      ".........0\n",
      ".........1\n",
      "...layers\\dense_1\n",
      "......vars\n",
      ".........0\n",
      ".........1\n",
      "...layers\\dense_2\n",
      "......vars\n",
      ".........0\n",
      ".........1\n",
      "...layers\\dense_3\n",
      "......vars\n",
      ".........0\n",
      ".........1\n",
      "...layers\\dense_4\n",
      "......vars\n",
      ".........0\n",
      ".........1\n",
      "...layers\\dropout\n",
      "......vars\n",
      "...layers\\dropout_1\n",
      "......vars\n",
      "...layers\\dropout_2\n",
      "......vars\n",
      "...layers\\flatten\n",
      "......vars\n",
      "...layers\\max_pooling2d\n",
      "......vars\n",
      "...layers\\max_pooling2d_1\n",
      "......vars\n",
      "...metrics\\mean\n",
      "......vars\n",
      ".........0\n",
      ".........1\n",
      "...metrics\\mean_metric_wrapper\n",
      "......vars\n",
      ".........0\n",
      ".........1\n",
      "...optimizer\n",
      "......vars\n",
      ".........0\n",
      ".........1\n",
      ".........10\n",
      ".........11\n",
      ".........12\n",
      ".........13\n",
      ".........14\n",
      ".........15\n",
      ".........16\n",
      ".........17\n",
      ".........18\n",
      ".........19\n",
      ".........2\n",
      ".........20\n",
      ".........21\n",
      ".........22\n",
      ".........23\n",
      ".........24\n",
      ".........25\n",
      ".........26\n",
      ".........27\n",
      ".........28\n",
      ".........29\n",
      ".........3\n",
      ".........30\n",
      ".........31\n",
      ".........32\n",
      ".........33\n",
      ".........34\n",
      ".........35\n",
      ".........36\n",
      ".........37\n",
      ".........38\n",
      ".........39\n",
      ".........4\n",
      ".........40\n",
      ".........41\n",
      ".........42\n",
      ".........43\n",
      ".........44\n",
      ".........45\n",
      ".........46\n",
      ".........47\n",
      ".........48\n",
      ".........49\n",
      ".........5\n",
      ".........50\n",
      ".........51\n",
      ".........52\n",
      ".........53\n",
      ".........54\n",
      ".........55\n",
      ".........56\n",
      ".........57\n",
      ".........58\n",
      ".........59\n",
      ".........6\n",
      ".........60\n",
      ".........61\n",
      ".........62\n",
      ".........63\n",
      ".........64\n",
      ".........7\n",
      ".........8\n",
      ".........9\n",
      "...vars\n",
      "Keras model archive saving:\n",
      "File Name                                             Modified             Size\n",
      "config.json                                    2024-03-11 21:36:12        10245\n",
      "metadata.json                                  2024-03-11 21:36:12           64\n",
      "variables.h5                                   2024-03-11 21:36:13      6131048\n",
      "Model saved successfully at D:/PROJECT/SDC\\model1.joblib\n"
     ]
    }
   ],
   "source": [
    "import os\n",
    "import joblib\n",
    "from sklearn.ensemble import RandomForestClassifier  # Replace with your actual model import\n",
    "\n",
    "# Create and train your machine learning model\n",
    "# Example: model = RandomForestClassifier()\n",
    "# model.fit(X_train, y_train)\n",
    "\n",
    "# Specify the directory path where you want to save the model\n",
    "directory_path = 'D:/PROJECT/SDC'\n",
    "\n",
    "# Check and create the directory if it doesn't exist\n",
    "if not os.path.exists(directory_path):\n",
    "    os.makedirs(directory_path)\n",
    "\n",
    "# Save the model using joblib\n",
    "model_filename = 'model1.joblib'\n",
    "model_filepath = os.path.join(directory_path, model_filename)\n",
    "joblib.dump(model, model_filepath)\n",
    "\n",
    "print(f\"Model saved successfully at {model_filepath}\")\n"
   ]
  },
  {
   "cell_type": "code",
   "execution_count": null,
   "id": "b02b277c",
   "metadata": {},
   "outputs": [],
   "source": []
  }
 ],
 "metadata": {
  "kernelspec": {
   "display_name": "Python 3 (ipykernel)",
   "language": "python",
   "name": "python3"
  },
  "language_info": {
   "codemirror_mode": {
    "name": "ipython",
    "version": 3
   },
   "file_extension": ".py",
   "mimetype": "text/x-python",
   "name": "python",
   "nbconvert_exporter": "python",
   "pygments_lexer": "ipython3",
   "version": "3.9.12"
  }
 },
 "nbformat": 4,
 "nbformat_minor": 5
}
